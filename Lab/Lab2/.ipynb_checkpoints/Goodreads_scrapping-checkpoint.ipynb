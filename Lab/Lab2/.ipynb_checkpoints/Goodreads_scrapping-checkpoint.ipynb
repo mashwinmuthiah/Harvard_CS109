{
 "cells": [
  {
   "cell_type": "markdown",
   "metadata": {},
   "source": [
    "# Cleaning and EDA of Goodreads\n",
    "\n",
    "Goodreads is a social cataloging website that allows individuals to freely search its database of books, annotations, and reviews. Users can sign up and register books to generate library catalogs and reading lists. They can also create their own groups of book suggestions, surveys, polls, blogs, and discussions. The website's offices are located in San Francisco.The company is owned by the online retailer Amazon.\n",
    "\n",
    "Goodreads was founded in December 2006 and launched in January 2007 by Otis Chandler, a software engineer and entrepreneur, and then, Elizabeth Khuri (Now Elizabeth Khuri Chandler), a journalist at the Los Angeles Times The website grew rapidly in popularity after being launched. In December 2007, the site had over 650,000 members and over 10,000,000 books had been added.By July 2012, the site reported 10 million members, 20 million monthly visits, and 30 employees. On July 23, 2013, it was announced on their website that the user base had grown to 20 million members, having doubled in close to 11 months. On March 28, 2013, Amazon announced its acquisition of Goodreads."
   ]
  },
  {
   "cell_type": "markdown",
   "metadata": {},
   "source": [
    "<img src=\"goodreads.png\">"
   ]
  },
  {
   "cell_type": "code",
   "execution_count": 1,
   "metadata": {},
   "outputs": [],
   "source": [
    "import pandas as pd\n",
    "import numpy as np \n",
    "import matplotlib.pyplot as plt\n",
    "import seaborn as sns \n",
    "import requests\n",
    "from bs4 import BeautifulSoup\n",
    "import time\n",
    "%matplotlib inline"
   ]
  },
  {
   "cell_type": "markdown",
   "metadata": {},
   "source": [
    " We are going to `Best Books Ever` page of the GoodReads website\n",
    " \n",
    " Here is a description of the data we are scrapping from the page.\n",
    "\n",
    "```\n",
    "rating: the average rating on a 1-5 scale achieved by the book\n",
    "review_count: the number of Goodreads users who reviewed this book\n",
    "isbn: the ISBN code for the book\n",
    "booktype: an internal Goodreads identifier for the book\n",
    "author_url: the Goodreads (relative) URL for the author of the book\n",
    "year: the year the book was published\n",
    "genre_urls: a string with '|' separated relative URLS of Goodreads genre pages\n",
    "dir: a directory identifier internal to the scraping code\n",
    "rating_count: the number of ratings for this book (this is different from the number of reviews)\n",
    "name: the name of the book\n",
    "```"
   ]
  },
  {
   "cell_type": "markdown",
   "metadata": {},
   "source": [
    "### Exploring the web pages and downloading them"
   ]
  },
  {
   "cell_type": "code",
   "execution_count": 2,
   "metadata": {},
   "outputs": [],
   "source": [
    "pd.set_option('display.width', 500)\n",
    "pd.set_option('display.max_columns', 100)\n",
    "plt.rcParams[\"figure.figsize\"] = (8,8)"
   ]
  },
  {
   "cell_type": "markdown",
   "metadata": {},
   "source": [
    "Lets first try scrapping the first page , after that its easy to automate for all the other pages."
   ]
  },
  {
   "cell_type": "code",
   "execution_count": 3,
   "metadata": {},
   "outputs": [
    {
     "name": "stdout",
     "output_type": "stream",
     "text": [
      "https://www.goodreads.com/list/show/1.Best_Books_Ever?page=1\n"
     ]
    }
   ],
   "source": [
    "base_url = \"https://www.goodreads.com\"\n",
    "best_book = \"/list/show/1.Best_Books_Ever?page=\"\n",
    "page_no = str(1)\n",
    "url = base_url+best_book+page_no\n",
    "print(url)"
   ]
  },
  {
   "cell_type": "code",
   "execution_count": 4,
   "metadata": {},
   "outputs": [
    {
     "name": "stdout",
     "output_type": "stream",
     "text": [
      "200\n"
     ]
    }
   ],
   "source": [
    "p_request = requests.get(url)\n",
    "print(p_request.status_code)\n",
    "p_text = p_request.text"
   ]
  },
  {
   "cell_type": "code",
   "execution_count": 5,
   "metadata": {
    "scrolled": true
   },
   "outputs": [
    {
     "name": "stdout",
     "output_type": "stream",
     "text": [
      "FTW page01.html\n",
      "FTW page02.html\n",
      "FTW page03.html\n",
      "FTW page04.html\n",
      "FTW page05.html\n",
      "FTW page06.html\n",
      "FTW page07.html\n",
      "FTW page08.html\n",
      "FTW page09.html\n",
      "FTW page10.html\n",
      "FTW page11.html\n",
      "FTW page12.html\n",
      "FTW page13.html\n",
      "FTW page14.html\n",
      "FTW page15.html\n",
      "FTW page16.html\n",
      "FTW page17.html\n",
      "FTW page18.html\n",
      "FTW page19.html\n",
      "FTW page20.html\n",
      "FTW page21.html\n",
      "FTW page22.html\n",
      "FTW page23.html\n",
      "FTW page24.html\n",
      "FTW page25.html\n",
      "FTW page26.html\n",
      "FTW page27.html\n",
      "FTW page28.html\n",
      "FTW page29.html\n",
      "FTW page30.html\n",
      "FTW page31.html\n",
      "FTW page32.html\n",
      "FTW page33.html\n",
      "FTW page34.html\n",
      "FTW page35.html\n",
      "FTW page36.html\n",
      "FTW page37.html\n",
      "FTW page38.html\n",
      "FTW page39.html\n",
      "FTW page40.html\n",
      "FTW page41.html\n",
      "FTW page42.html\n",
      "FTW page43.html\n",
      "FTW page44.html\n",
      "FTW page45.html\n",
      "FTW page46.html\n",
      "FTW page47.html\n",
      "FTW page48.html\n",
      "FTW page49.html\n",
      "FTW page50.html\n",
      "FTW page51.html\n",
      "FTW page52.html\n",
      "FTW page53.html\n",
      "FTW page54.html\n",
      "FTW page55.html\n",
      "FTW page56.html\n",
      "FTW page57.html\n",
      "FTW page58.html\n",
      "FTW page59.html\n"
     ]
    }
   ],
   "source": [
    "for i in range(1,60):\n",
    "    page_no = str(i)\n",
    "    stuff = requests.get(base_url+best_book+page_no)\n",
    "    filetowrite = \"page\"+ '%02d'%i + '.html'\n",
    "    ## print(\"FTW\" , filetowrite)\n",
    "    fd = open(filetowrite,\"w\",encoding=\"utf-8\")\n",
    "    fd.write(stuff.text)\n",
    "    fd.close()\n",
    "    time.sleep(2)"
   ]
  },
  {
   "cell_type": "markdown",
   "metadata": {},
   "source": [
    "### Parse the page, extract book urls"
   ]
  },
  {
   "cell_type": "code",
   "execution_count": 6,
   "metadata": {
    "scrolled": true
   },
   "outputs": [
    {
     "name": "stdout",
     "output_type": "stream",
     "text": [
      "FTW page01.html\n",
      "FTW page02.html\n",
      "FTW page03.html\n",
      "FTW page04.html\n",
      "FTW page05.html\n",
      "FTW page06.html\n",
      "FTW page07.html\n",
      "FTW page08.html\n",
      "FTW page09.html\n",
      "FTW page10.html\n",
      "FTW page11.html\n",
      "FTW page12.html\n",
      "FTW page13.html\n",
      "FTW page14.html\n",
      "FTW page15.html\n",
      "FTW page16.html\n",
      "FTW page17.html\n",
      "FTW page18.html\n",
      "FTW page19.html\n",
      "FTW page20.html\n",
      "FTW page21.html\n",
      "FTW page22.html\n",
      "FTW page23.html\n",
      "FTW page24.html\n",
      "FTW page25.html\n",
      "FTW page26.html\n",
      "FTW page27.html\n",
      "FTW page28.html\n",
      "FTW page29.html\n",
      "FTW page30.html\n",
      "FTW page31.html\n",
      "FTW page32.html\n",
      "FTW page33.html\n",
      "FTW page34.html\n",
      "FTW page35.html\n",
      "FTW page36.html\n",
      "FTW page37.html\n",
      "FTW page38.html\n",
      "FTW page39.html\n",
      "FTW page40.html\n",
      "FTW page41.html\n",
      "FTW page42.html\n",
      "FTW page43.html\n",
      "FTW page44.html\n",
      "FTW page45.html\n",
      "FTW page46.html\n",
      "FTW page47.html\n",
      "FTW page48.html\n",
      "FTW page49.html\n",
      "FTW page50.html\n",
      "FTW page51.html\n",
      "FTW page52.html\n",
      "FTW page53.html\n",
      "FTW page54.html\n",
      "FTW page55.html\n",
      "FTW page56.html\n",
      "FTW page57.html\n",
      "FTW page58.html\n",
      "FTW page59.html\n"
     ]
    }
   ],
   "source": [
    "bookdict={}\n",
    "for i in range(1,60):\n",
    "    books=[]\n",
    "    stri = '%02d' % i\n",
    "    filetoread=\"page\"+ stri + '.html'\n",
    "    ## print(\"FTW\", filetoread)\n",
    "    with open(filetoread,encoding=\"utf8\") as fdr:\n",
    "        data = fdr.read()\n",
    "    soup = BeautifulSoup(data, 'html.parser')\n",
    "    for e in soup.select('.bookTitle'):\n",
    "        books.append(e['href'])\n",
    "    bookdict[stri]=books\n",
    "    fd=open(\"list\"+stri+\".txt\",\"w\")\n",
    "    fd.write(\"\\n\".join(books))\n",
    "    fd.close()"
   ]
  },
  {
   "cell_type": "code",
   "execution_count": 5,
   "metadata": {},
   "outputs": [],
   "source": [
    "# Checking if we got all the links right\n",
    "## bookdict"
   ]
  },
  {
   "cell_type": "markdown",
   "metadata": {},
   "source": [
    "### Parse a book page, extract book properties"
   ]
  },
  {
   "cell_type": "code",
   "execution_count": 11,
   "metadata": {},
   "outputs": [
    {
     "data": {
      "text/plain": [
       "'https://www.goodreads.com/book/show/43763.Interview_with_the_Vampire'"
      ]
     },
     "execution_count": 11,
     "metadata": {},
     "output_type": "execute_result"
    }
   ],
   "source": [
    "furl=base_url+bookdict['02'][0]\n",
    "furl"
   ]
  },
  {
   "cell_type": "code",
   "execution_count": 12,
   "metadata": {},
   "outputs": [
    {
     "name": "stdout",
     "output_type": "stream",
     "text": [
      "200\n"
     ]
    }
   ],
   "source": [
    "fstuff=requests.get(furl)\n",
    "print(fstuff.status_code)"
   ]
  },
  {
   "cell_type": "code",
   "execution_count": 13,
   "metadata": {},
   "outputs": [],
   "source": [
    "d=BeautifulSoup(fstuff.text, 'html.parser')"
   ]
  },
  {
   "cell_type": "code",
   "execution_count": 14,
   "metadata": {},
   "outputs": [
    {
     "data": {
      "text/plain": [
       "'Interview with the Vampire (The Vampire Chronicles, #1)'"
      ]
     },
     "execution_count": 14,
     "metadata": {},
     "output_type": "execute_result"
    }
   ],
   "source": [
    "d.select(\"meta[property='og:title']\")[0]['content']"
   ]
  },
  {
   "cell_type": "code",
   "execution_count": 15,
   "metadata": {},
   "outputs": [
    {
     "name": "stdout",
     "output_type": "stream",
     "text": [
      "title Interview with the Vampire (The Vampire Chronicles, #1) \n",
      " isbn 9780345476876 \n",
      " type books.book \n",
      " author https://www.goodreads.com/author/show/7577.Anne_Rice \n",
      " average rating 3.99 \n",
      " ratingCount 443625 \n",
      " reviewCount 9223\n"
     ]
    }
   ],
   "source": [
    "print(\n",
    "\"title\", d.select_one(\"meta[property='og:title']\")['content'],\"\\n\",\n",
    "\"isbn\", d.select(\"meta[property='books:isbn']\")[0]['content'],\"\\n\",\n",
    "\"type\", d.select(\"meta[property='og:type']\")[0]['content'],\"\\n\",\n",
    "\"author\", d.select(\"meta[property='books:author']\")[0]['content'],\"\\n\",\n",
    "\"average rating\", d.select_one(\"span[itemprop='ratingValue']\").text.strip(),\"\\n\",\n",
    "\"ratingCount\", d.select(\"meta[itemprop='ratingCount']\")[0][\"content\"],\"\\n\",\n",
    "\"reviewCount\", d.select_one(\"meta[itemprop='reviewCount']\")['content']\n",
    ")"
   ]
  },
  {
   "cell_type": "code",
   "execution_count": 16,
   "metadata": {},
   "outputs": [],
   "source": [
    "genres=d.select(\"div.elementList div.left a\")"
   ]
  },
  {
   "cell_type": "code",
   "execution_count": 17,
   "metadata": {},
   "outputs": [],
   "source": [
    "glist = []\n",
    "for g in genres:\n",
    "    glist.append(g['href'].split('/')[-1])"
   ]
  },
  {
   "cell_type": "code",
   "execution_count": 18,
   "metadata": {},
   "outputs": [
    {
     "data": {
      "text/plain": [
       "'horror|fantasy|fiction|paranormal|vampires|fantasy|paranormal'"
      ]
     },
     "execution_count": 18,
     "metadata": {},
     "output_type": "execute_result"
    }
   ],
   "source": [
    "\"|\".join(glist)"
   ]
  },
  {
   "cell_type": "code",
   "execution_count": 8,
   "metadata": {},
   "outputs": [],
   "source": [
    "import re\n",
    "yearre = r'\\d{4}'\n",
    "def get_year(d):\n",
    "    if d.select_one(\"nobr.greyText\"):\n",
    "        return d.select_one(\"nobr.greyText\").text.strip().split()[-1][:-1]\n",
    "    else:\n",
    "        thetext=d.select(\"div#details div.row\")[1].text.strip()\n",
    "        rowmatch=re.findall(yearre, thetext)\n",
    "        if len(rowmatch) > 0:\n",
    "            rowtext=rowmatch[0].strip()\n",
    "        else:\n",
    "            rowtext=\"NA\"\n",
    "        return rowtext"
   ]
  },
  {
   "cell_type": "code",
   "execution_count": 9,
   "metadata": {},
   "outputs": [],
   "source": [
    "def get_genres(d):\n",
    "    genres = d.select(\"div.elementList div.left a\")\n",
    "    glist = []\n",
    "    for g in genres:\n",
    "        glist.append(g['href'].split('/')[-1])\n",
    "    return \"|\".join(glist)"
   ]
  },
  {
   "cell_type": "code",
   "execution_count": 33,
   "metadata": {
    "scrolled": false
   },
   "outputs": [],
   "source": [
    "good_reads = {\n",
    "    'title':[],\n",
    "    'isbn':[],\n",
    "    'booktype':[],\n",
    "    'author':[],\n",
    "    'rating':[],\n",
    "    'ratingCount':[],\n",
    "    'reviewCount':[],\n",
    "    'year':[],\n",
    "    'genres':[]\n",
    "}\n"
   ]
  },
  {
   "cell_type": "code",
   "execution_count": 34,
   "metadata": {
    "scrolled": true
   },
   "outputs": [
    {
     "name": "stdout",
     "output_type": "stream",
     "text": [
      "Done: 1\n",
      "Done: 2\n",
      "Done: 3\n",
      "Done: 4\n",
      "Done: 5\n",
      "Done: 6\n",
      "Done: 7\n",
      "Done: 8\n",
      "Done: 9\n",
      "Done: 10\n",
      "Done: 11\n",
      "Done: 12\n",
      "Done: 13\n",
      "Done: 14\n",
      "Done: 15\n",
      "Done: 16\n",
      "Done: 17\n",
      "Done: 18\n",
      "Done: 19\n",
      "Done: 20\n",
      "Done: 21\n",
      "Done: 22\n",
      "Done: 23\n",
      "Done: 24\n",
      "Done: 25\n",
      "Done: 26\n",
      "Done: 27\n",
      "Problem with : 28 4\n",
      "Done: 28\n",
      "Done: 29\n",
      "Done: 30\n",
      "Done: 31\n",
      "Done: 32\n",
      "Done: 33\n",
      "Done: 34\n",
      "Done: 35\n",
      "Done: 36\n",
      "Done: 37\n",
      "Done: 38\n",
      "Done: 39\n",
      "Problem with : 40 38\n",
      "Done: 40\n",
      "Done: 41\n",
      "Done: 42\n",
      "Done: 43\n",
      "Done: 44\n",
      "Done: 45\n",
      "Done: 46\n",
      "Done: 47\n",
      "Done: 48\n",
      "Done: 49\n",
      "Done: 50\n",
      "Done: 51\n",
      "Done: 52\n",
      "Done: 53\n",
      "Done: 54\n",
      "Done: 55\n",
      "Done: 56\n",
      "Done: 57\n",
      "Done: 58\n",
      "Done: 59\n"
     ]
    }
   ],
   "source": [
    "for i in range(1,60):\n",
    "    stri = '%02d' % i\n",
    "    for j in range(100):\n",
    "        try:\n",
    "            furl=base_url+bookdict[stri][j]\n",
    "            fstuff=requests.get(furl)\n",
    "            d=BeautifulSoup(fstuff.text, 'html.parser')\n",
    "            good_reads['title'].append(d.select_one(\"meta[property='og:title']\")['content'])\n",
    "            good_reads[\"isbn\"].append(d.select(\"meta[property='books:isbn']\")[0]['content'])\n",
    "            good_reads[\"booktype\"].append(d.select(\"meta[property='og:type']\")[0]['content'])\n",
    "            good_reads[\"author\"].append(d.select(\"meta[property='books:author']\")[0]['content'])\n",
    "            good_reads[\"rating\"].append(d.select_one(\"span[itemprop='ratingValue']\").text.strip())\n",
    "            good_reads[\"ratingCount\"].append(d.select(\"meta[itemprop='ratingCount']\")[0][\"content\"])\n",
    "            good_reads[\"reviewCount\"].append(d.select_one(\"meta[itemprop='reviewCount']\")['content'])\n",
    "            good_reads['year'].append(get_year(d))\n",
    "            good_reads['genres'].append(get_genres(d))\n",
    "        except:\n",
    "            print(\"Problem with :\",i,j)\n",
    "    print(\"Done:\",i)"
   ]
  },
  {
   "cell_type": "code",
   "execution_count": 10,
   "metadata": {},
   "outputs": [],
   "source": [
    "## Trouble Shooting Function\n",
    "def trys(n):\n",
    "    stri = '%02d' % n\n",
    "    for j in range(1,100):\n",
    "        if j!=4:\n",
    "            furl=base_url+bookdict[stri][j]\n",
    "            fstuff=requests.get(furl)\n",
    "            d=BeautifulSoup(fstuff.text, 'html.parser')\n",
    "            print(d.select_one(\"meta[property='og:title']\")['content'])\n",
    "            print(d.select(\"meta[property='books:isbn']\")[0]['content'])\n",
    "            print(d.select(\"meta[property='og:type']\")[0]['content'])\n",
    "            print(d.select(\"meta[property='books:author']\")[0]['content'])\n",
    "            print(d.select_one(\"span[itemprop='ratingValue']\").text.strip())\n",
    "            print(d.select(\"meta[itemprop='ratingCount']\")[0][\"content\"])\n",
    "            print(d.select_one(\"meta[itemprop='reviewCount']\")['content'])\n",
    "            print(get_genres(d))\n",
    "            print(get_year(d))\n",
    "            print(\"Done:\",j)\n",
    "            print(\"-------------------\")\n",
    "\n",
    "## trys(28)"
   ]
  },
  {
   "cell_type": "code",
   "execution_count": 42,
   "metadata": {},
   "outputs": [
    {
     "data": {
      "text/plain": [
       "dict_keys(['title', 'isbn', 'booktype', 'author', 'rating', 'ratingCount', 'reviewCount', 'year', 'genres'])"
      ]
     },
     "execution_count": 42,
     "metadata": {},
     "output_type": "execute_result"
    }
   ],
   "source": [
    "good_reads.keys()"
   ]
  },
  {
   "cell_type": "markdown",
   "metadata": {},
   "source": [
    "Since we missed 2 values in the middle , we have to replace it with null"
   ]
  },
  {
   "cell_type": "code",
   "execution_count": 48,
   "metadata": {},
   "outputs": [],
   "source": [
    "good_reads['year'].insert(2804,None)\n",
    "good_reads['year'].insert(4038,None)"
   ]
  },
  {
   "cell_type": "code",
   "execution_count": 52,
   "metadata": {},
   "outputs": [],
   "source": [
    "good_reads['genres'].insert(2804,None)\n",
    "good_reads['genres'].insert(4038,None)"
   ]
  },
  {
   "cell_type": "code",
   "execution_count": 53,
   "metadata": {},
   "outputs": [
    {
     "name": "stdout",
     "output_type": "stream",
     "text": [
      "5900\n",
      "5900\n",
      "5900\n",
      "5900\n",
      "5900\n",
      "5900\n",
      "5900\n",
      "5900\n",
      "5900\n"
     ]
    }
   ],
   "source": [
    "print(len(good_reads['title']))\n",
    "print(len(good_reads['isbn']))\n",
    "print(len(good_reads['booktype']))\n",
    "print(len(good_reads['author']))\n",
    "print(len(good_reads['rating']))\n",
    "print(len(good_reads['ratingCount']))\n",
    "print(len(good_reads['reviewCount']))\n",
    "print(len(good_reads['year']))\n",
    "print(len(good_reads['genres']))"
   ]
  },
  {
   "cell_type": "code",
   "execution_count": 55,
   "metadata": {},
   "outputs": [],
   "source": [
    "df = pd.DataFrame(good_reads)"
   ]
  },
  {
   "cell_type": "code",
   "execution_count": 56,
   "metadata": {},
   "outputs": [],
   "source": [
    "df.to_csv(\"goodreads_scrapping.csv\")"
   ]
  },
  {
   "cell_type": "code",
   "execution_count": 57,
   "metadata": {},
   "outputs": [],
   "source": [
    "df1 = pd.read_csv(\"goodreads_scrapping.csv\")"
   ]
  },
  {
   "cell_type": "code",
   "execution_count": 58,
   "metadata": {},
   "outputs": [
    {
     "data": {
      "text/html": [
       "<div>\n",
       "<style scoped>\n",
       "    .dataframe tbody tr th:only-of-type {\n",
       "        vertical-align: middle;\n",
       "    }\n",
       "\n",
       "    .dataframe tbody tr th {\n",
       "        vertical-align: top;\n",
       "    }\n",
       "\n",
       "    .dataframe thead th {\n",
       "        text-align: right;\n",
       "    }\n",
       "</style>\n",
       "<table border=\"1\" class=\"dataframe\">\n",
       "  <thead>\n",
       "    <tr style=\"text-align: right;\">\n",
       "      <th></th>\n",
       "      <th>Unnamed: 0</th>\n",
       "      <th>title</th>\n",
       "      <th>isbn</th>\n",
       "      <th>booktype</th>\n",
       "      <th>author</th>\n",
       "      <th>rating</th>\n",
       "      <th>ratingCount</th>\n",
       "      <th>reviewCount</th>\n",
       "      <th>year</th>\n",
       "      <th>genres</th>\n",
       "    </tr>\n",
       "  </thead>\n",
       "  <tbody>\n",
       "    <tr>\n",
       "      <th>0</th>\n",
       "      <td>0</td>\n",
       "      <td>The Hunger Games (The Hunger Games, #1)</td>\n",
       "      <td>9780439023481</td>\n",
       "      <td>books.book</td>\n",
       "      <td>https://www.goodreads.com/author/show/153394.S...</td>\n",
       "      <td>4.33</td>\n",
       "      <td>5759514</td>\n",
       "      <td>163427</td>\n",
       "      <td>2008.0</td>\n",
       "      <td>young-adult|fiction|science-fiction|dystopia|f...</td>\n",
       "    </tr>\n",
       "    <tr>\n",
       "      <th>1</th>\n",
       "      <td>1</td>\n",
       "      <td>Harry Potter and the Order of the Phoenix (Har...</td>\n",
       "      <td>9780439358071</td>\n",
       "      <td>books.book</td>\n",
       "      <td>https://www.goodreads.com/author/show/1077326....</td>\n",
       "      <td>4.49</td>\n",
       "      <td>2171104</td>\n",
       "      <td>36278</td>\n",
       "      <td>2003.0</td>\n",
       "      <td>fantasy|young-adult|fiction</td>\n",
       "    </tr>\n",
       "    <tr>\n",
       "      <th>2</th>\n",
       "      <td>2</td>\n",
       "      <td>To Kill a Mockingbird (To Kill a Mockingbird, #1)</td>\n",
       "      <td>NaN</td>\n",
       "      <td>books.book</td>\n",
       "      <td>https://www.goodreads.com/author/show/1825.Har...</td>\n",
       "      <td>4.27</td>\n",
       "      <td>3971942</td>\n",
       "      <td>83914</td>\n",
       "      <td>1960.0</td>\n",
       "      <td>classics|fiction|historical|historical-fiction...</td>\n",
       "    </tr>\n",
       "    <tr>\n",
       "      <th>3</th>\n",
       "      <td>3</td>\n",
       "      <td>Pride and Prejudice</td>\n",
       "      <td>NaN</td>\n",
       "      <td>books.book</td>\n",
       "      <td>https://www.goodreads.com/author/show/1265.Jan...</td>\n",
       "      <td>4.25</td>\n",
       "      <td>2604077</td>\n",
       "      <td>57874</td>\n",
       "      <td>1813.0</td>\n",
       "      <td>classics|fiction|romance</td>\n",
       "    </tr>\n",
       "    <tr>\n",
       "      <th>4</th>\n",
       "      <td>4</td>\n",
       "      <td>Twilight (Twilight, #1)</td>\n",
       "      <td>9780316015844</td>\n",
       "      <td>books.book</td>\n",
       "      <td>https://www.goodreads.com/author/show/941441.S...</td>\n",
       "      <td>3.59</td>\n",
       "      <td>4460110</td>\n",
       "      <td>99364</td>\n",
       "      <td>2005.0</td>\n",
       "      <td>young-adult|fantasy|romance|paranormal|vampire...</td>\n",
       "    </tr>\n",
       "  </tbody>\n",
       "</table>\n",
       "</div>"
      ],
      "text/plain": [
       "   Unnamed: 0                                              title           isbn    booktype                                             author  rating  ratingCount  reviewCount    year                                             genres\n",
       "0           0            The Hunger Games (The Hunger Games, #1)  9780439023481  books.book  https://www.goodreads.com/author/show/153394.S...    4.33      5759514       163427  2008.0  young-adult|fiction|science-fiction|dystopia|f...\n",
       "1           1  Harry Potter and the Order of the Phoenix (Har...  9780439358071  books.book  https://www.goodreads.com/author/show/1077326....    4.49      2171104        36278  2003.0                        fantasy|young-adult|fiction\n",
       "2           2  To Kill a Mockingbird (To Kill a Mockingbird, #1)            NaN  books.book  https://www.goodreads.com/author/show/1825.Har...    4.27      3971942        83914  1960.0  classics|fiction|historical|historical-fiction...\n",
       "3           3                                Pride and Prejudice            NaN  books.book  https://www.goodreads.com/author/show/1265.Jan...    4.25      2604077        57874  1813.0                           classics|fiction|romance\n",
       "4           4                            Twilight (Twilight, #1)  9780316015844  books.book  https://www.goodreads.com/author/show/941441.S...    3.59      4460110        99364  2005.0  young-adult|fantasy|romance|paranormal|vampire..."
      ]
     },
     "execution_count": 58,
     "metadata": {},
     "output_type": "execute_result"
    }
   ],
   "source": [
    "df1.head()"
   ]
  },
  {
   "cell_type": "code",
   "execution_count": null,
   "metadata": {},
   "outputs": [],
   "source": []
  }
 ],
 "metadata": {
  "kernelspec": {
   "display_name": "Python 3",
   "language": "python",
   "name": "python3"
  },
  "language_info": {
   "codemirror_mode": {
    "name": "ipython",
    "version": 3
   },
   "file_extension": ".py",
   "mimetype": "text/x-python",
   "name": "python",
   "nbconvert_exporter": "python",
   "pygments_lexer": "ipython3",
   "version": "3.7.0"
  }
 },
 "nbformat": 4,
 "nbformat_minor": 2
}
