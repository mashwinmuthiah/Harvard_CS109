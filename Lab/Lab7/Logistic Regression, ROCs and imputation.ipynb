{
 "cells": [
  {
   "cell_type": "code",
   "execution_count": 14,
   "metadata": {},
   "outputs": [],
   "source": [
    "import numpy as np\n",
    "import pandas as pd\n",
    "import matplotlib\n",
    "import matplotlib.pyplot as plt\n",
    "import statsmodels as sm\n",
    "from statsmodels.regression.linear_model import OLS\n",
    "from sklearn.decomposition import PCA\n",
    "from sklearn.linear_model import LogisticRegression\n",
    "from sklearn.linear_model import LogisticRegressionCV\n",
    "from sklearn.utils import resample\n",
    "from sklearn.model_selection import cross_val_score\n",
    "from sklearn.metrics import accuracy_score\n",
    "%matplotlib inline\n",
    "import seaborn as sns\n",
    "import warnings"
   ]
  },
  {
   "cell_type": "code",
   "execution_count": 2,
   "metadata": {},
   "outputs": [
    {
     "data": {
      "text/html": [
       "<div>\n",
       "<style scoped>\n",
       "    .dataframe tbody tr th:only-of-type {\n",
       "        vertical-align: middle;\n",
       "    }\n",
       "\n",
       "    .dataframe tbody tr th {\n",
       "        vertical-align: top;\n",
       "    }\n",
       "\n",
       "    .dataframe thead th {\n",
       "        text-align: right;\n",
       "    }\n",
       "</style>\n",
       "<table border=\"1\" class=\"dataframe\">\n",
       "  <thead>\n",
       "    <tr style=\"text-align: right;\">\n",
       "      <th></th>\n",
       "      <th>health</th>\n",
       "      <th>age</th>\n",
       "      <th>sex</th>\n",
       "      <th>educ</th>\n",
       "      <th>sexornt</th>\n",
       "      <th>partyid</th>\n",
       "      <th>race</th>\n",
       "      <th>married</th>\n",
       "      <th>income</th>\n",
       "    </tr>\n",
       "  </thead>\n",
       "  <tbody>\n",
       "    <tr>\n",
       "      <th>0</th>\n",
       "      <td>excellent</td>\n",
       "      <td>53</td>\n",
       "      <td>male</td>\n",
       "      <td>16</td>\n",
       "      <td>heterosexual or straight</td>\n",
       "      <td>rep</td>\n",
       "      <td>white</td>\n",
       "      <td>1</td>\n",
       "      <td>18750.0</td>\n",
       "    </tr>\n",
       "    <tr>\n",
       "      <th>1</th>\n",
       "      <td>excellent</td>\n",
       "      <td>26</td>\n",
       "      <td>female</td>\n",
       "      <td>16</td>\n",
       "      <td>heterosexual or straight</td>\n",
       "      <td>rep</td>\n",
       "      <td>white</td>\n",
       "      <td>1</td>\n",
       "      <td>18750.0</td>\n",
       "    </tr>\n",
       "    <tr>\n",
       "      <th>2</th>\n",
       "      <td>good</td>\n",
       "      <td>59</td>\n",
       "      <td>male</td>\n",
       "      <td>13</td>\n",
       "      <td>heterosexual or straight</td>\n",
       "      <td>rep</td>\n",
       "      <td>white</td>\n",
       "      <td>1</td>\n",
       "      <td>NaN</td>\n",
       "    </tr>\n",
       "    <tr>\n",
       "      <th>3</th>\n",
       "      <td>excellent</td>\n",
       "      <td>74</td>\n",
       "      <td>female</td>\n",
       "      <td>17</td>\n",
       "      <td>heterosexual or straight</td>\n",
       "      <td>other</td>\n",
       "      <td>white</td>\n",
       "      <td>1</td>\n",
       "      <td>NaN</td>\n",
       "    </tr>\n",
       "    <tr>\n",
       "      <th>4</th>\n",
       "      <td>poor</td>\n",
       "      <td>37</td>\n",
       "      <td>female</td>\n",
       "      <td>10</td>\n",
       "      <td>heterosexual or straight</td>\n",
       "      <td>other</td>\n",
       "      <td>white</td>\n",
       "      <td>0</td>\n",
       "      <td>NaN</td>\n",
       "    </tr>\n",
       "  </tbody>\n",
       "</table>\n",
       "</div>"
      ],
      "text/plain": [
       "      health  age     sex  educ                   sexornt partyid   race  \\\n",
       "0  excellent   53    male    16  heterosexual or straight     rep  white   \n",
       "1  excellent   26  female    16  heterosexual or straight     rep  white   \n",
       "2       good   59    male    13  heterosexual or straight     rep  white   \n",
       "3  excellent   74  female    17  heterosexual or straight   other  white   \n",
       "4       poor   37  female    10  heterosexual or straight   other  white   \n",
       "\n",
       "   married   income  \n",
       "0        1  18750.0  \n",
       "1        1  18750.0  \n",
       "2        1      NaN  \n",
       "3        1      NaN  \n",
       "4        0      NaN  "
      ]
     },
     "execution_count": 2,
     "metadata": {},
     "output_type": "execute_result"
    }
   ],
   "source": [
    "gssdata = pd.read_csv('https://raw.githubusercontent.com/cs109/a-2017/master/Labs/Lab7_Logistic_ROC_Imputation/gssdata4.csv')\n",
    "gssdata.head()"
   ]
  },
  {
   "cell_type": "code",
   "execution_count": 15,
   "metadata": {},
   "outputs": [],
   "source": [
    "warnings.simplefilter('ignore')"
   ]
  },
  {
   "cell_type": "code",
   "execution_count": 3,
   "metadata": {},
   "outputs": [
    {
     "data": {
      "text/plain": [
       "good         737\n",
       "excellent    414\n",
       "fair         301\n",
       "poor          99\n",
       "Name: health, dtype: int64"
      ]
     },
     "execution_count": 3,
     "metadata": {},
     "output_type": "execute_result"
    }
   ],
   "source": [
    "gssdata.health.value_counts()"
   ]
  },
  {
   "cell_type": "code",
   "execution_count": 4,
   "metadata": {},
   "outputs": [],
   "source": [
    "poorhealth = np.where(gssdata.health == 'poor',1,0)\n",
    "goodhealth = np.where(gssdata.health == 'good',1,0)\n",
    "excellenthealth = np.where(gssdata.health == 'excellent',1,0) \n",
    "fairhealth = np.where(gssdata.health == 'fair',1,0) "
   ]
  },
  {
   "cell_type": "code",
   "execution_count": 5,
   "metadata": {},
   "outputs": [
    {
     "data": {
      "text/plain": [
       "301"
      ]
     },
     "execution_count": 5,
     "metadata": {},
     "output_type": "execute_result"
    }
   ],
   "source": [
    "np.sum(fairhealth)"
   ]
  },
  {
   "cell_type": "code",
   "execution_count": 6,
   "metadata": {},
   "outputs": [
    {
     "data": {
      "text/plain": [
       "6.382978723404255"
      ]
     },
     "execution_count": 6,
     "metadata": {},
     "output_type": "execute_result"
    }
   ],
   "source": [
    "gssdata['poorhealth'] = poorhealth\n",
    "gssdata['fairhealth'] = fairhealth\n",
    "gssdata['excellenthealth'] = excellenthealth\n",
    "100*gssdata.poorhealth.mean()"
   ]
  },
  {
   "cell_type": "code",
   "execution_count": 7,
   "metadata": {},
   "outputs": [],
   "source": [
    "#creating dummies two ways\n",
    "gssdata['female'] = 1*(gssdata['sex'] ==  'female')\n",
    "dummy_vars = pd.get_dummies(gssdata[['sexornt','partyid','race']])\n",
    "gssdata = gssdata.join(dummy_vars)"
   ]
  },
  {
   "cell_type": "code",
   "execution_count": 8,
   "metadata": {},
   "outputs": [
    {
     "name": "stdout",
     "output_type": "stream",
     "text": [
      "(1551, 23)\n"
     ]
    },
    {
     "data": {
      "text/html": [
       "<div>\n",
       "<style scoped>\n",
       "    .dataframe tbody tr th:only-of-type {\n",
       "        vertical-align: middle;\n",
       "    }\n",
       "\n",
       "    .dataframe tbody tr th {\n",
       "        vertical-align: top;\n",
       "    }\n",
       "\n",
       "    .dataframe thead th {\n",
       "        text-align: right;\n",
       "    }\n",
       "</style>\n",
       "<table border=\"1\" class=\"dataframe\">\n",
       "  <thead>\n",
       "    <tr style=\"text-align: right;\">\n",
       "      <th></th>\n",
       "      <th>health</th>\n",
       "      <th>age</th>\n",
       "      <th>sex</th>\n",
       "      <th>educ</th>\n",
       "      <th>sexornt</th>\n",
       "      <th>partyid</th>\n",
       "      <th>race</th>\n",
       "      <th>married</th>\n",
       "      <th>income</th>\n",
       "      <th>poorhealth</th>\n",
       "      <th>...</th>\n",
       "      <th>sexornt_bisexual</th>\n",
       "      <th>sexornt_dont know</th>\n",
       "      <th>sexornt_heterosexual or straight</th>\n",
       "      <th>sexornt_homosexual or gay</th>\n",
       "      <th>partyid_dem</th>\n",
       "      <th>partyid_other</th>\n",
       "      <th>partyid_rep</th>\n",
       "      <th>race_black</th>\n",
       "      <th>race_other</th>\n",
       "      <th>race_white</th>\n",
       "    </tr>\n",
       "  </thead>\n",
       "  <tbody>\n",
       "    <tr>\n",
       "      <th>0</th>\n",
       "      <td>excellent</td>\n",
       "      <td>53</td>\n",
       "      <td>male</td>\n",
       "      <td>16</td>\n",
       "      <td>heterosexual or straight</td>\n",
       "      <td>rep</td>\n",
       "      <td>white</td>\n",
       "      <td>1</td>\n",
       "      <td>18750.0</td>\n",
       "      <td>0</td>\n",
       "      <td>...</td>\n",
       "      <td>0</td>\n",
       "      <td>0</td>\n",
       "      <td>1</td>\n",
       "      <td>0</td>\n",
       "      <td>0</td>\n",
       "      <td>0</td>\n",
       "      <td>1</td>\n",
       "      <td>0</td>\n",
       "      <td>0</td>\n",
       "      <td>1</td>\n",
       "    </tr>\n",
       "    <tr>\n",
       "      <th>1</th>\n",
       "      <td>excellent</td>\n",
       "      <td>26</td>\n",
       "      <td>female</td>\n",
       "      <td>16</td>\n",
       "      <td>heterosexual or straight</td>\n",
       "      <td>rep</td>\n",
       "      <td>white</td>\n",
       "      <td>1</td>\n",
       "      <td>18750.0</td>\n",
       "      <td>0</td>\n",
       "      <td>...</td>\n",
       "      <td>0</td>\n",
       "      <td>0</td>\n",
       "      <td>1</td>\n",
       "      <td>0</td>\n",
       "      <td>0</td>\n",
       "      <td>0</td>\n",
       "      <td>1</td>\n",
       "      <td>0</td>\n",
       "      <td>0</td>\n",
       "      <td>1</td>\n",
       "    </tr>\n",
       "    <tr>\n",
       "      <th>2</th>\n",
       "      <td>good</td>\n",
       "      <td>59</td>\n",
       "      <td>male</td>\n",
       "      <td>13</td>\n",
       "      <td>heterosexual or straight</td>\n",
       "      <td>rep</td>\n",
       "      <td>white</td>\n",
       "      <td>1</td>\n",
       "      <td>NaN</td>\n",
       "      <td>0</td>\n",
       "      <td>...</td>\n",
       "      <td>0</td>\n",
       "      <td>0</td>\n",
       "      <td>1</td>\n",
       "      <td>0</td>\n",
       "      <td>0</td>\n",
       "      <td>0</td>\n",
       "      <td>1</td>\n",
       "      <td>0</td>\n",
       "      <td>0</td>\n",
       "      <td>1</td>\n",
       "    </tr>\n",
       "    <tr>\n",
       "      <th>3</th>\n",
       "      <td>excellent</td>\n",
       "      <td>74</td>\n",
       "      <td>female</td>\n",
       "      <td>17</td>\n",
       "      <td>heterosexual or straight</td>\n",
       "      <td>other</td>\n",
       "      <td>white</td>\n",
       "      <td>1</td>\n",
       "      <td>NaN</td>\n",
       "      <td>0</td>\n",
       "      <td>...</td>\n",
       "      <td>0</td>\n",
       "      <td>0</td>\n",
       "      <td>1</td>\n",
       "      <td>0</td>\n",
       "      <td>0</td>\n",
       "      <td>1</td>\n",
       "      <td>0</td>\n",
       "      <td>0</td>\n",
       "      <td>0</td>\n",
       "      <td>1</td>\n",
       "    </tr>\n",
       "    <tr>\n",
       "      <th>4</th>\n",
       "      <td>poor</td>\n",
       "      <td>37</td>\n",
       "      <td>female</td>\n",
       "      <td>10</td>\n",
       "      <td>heterosexual or straight</td>\n",
       "      <td>other</td>\n",
       "      <td>white</td>\n",
       "      <td>0</td>\n",
       "      <td>NaN</td>\n",
       "      <td>1</td>\n",
       "      <td>...</td>\n",
       "      <td>0</td>\n",
       "      <td>0</td>\n",
       "      <td>1</td>\n",
       "      <td>0</td>\n",
       "      <td>0</td>\n",
       "      <td>1</td>\n",
       "      <td>0</td>\n",
       "      <td>0</td>\n",
       "      <td>0</td>\n",
       "      <td>1</td>\n",
       "    </tr>\n",
       "  </tbody>\n",
       "</table>\n",
       "<p>5 rows × 23 columns</p>\n",
       "</div>"
      ],
      "text/plain": [
       "      health  age     sex  educ                   sexornt partyid   race  \\\n",
       "0  excellent   53    male    16  heterosexual or straight     rep  white   \n",
       "1  excellent   26  female    16  heterosexual or straight     rep  white   \n",
       "2       good   59    male    13  heterosexual or straight     rep  white   \n",
       "3  excellent   74  female    17  heterosexual or straight   other  white   \n",
       "4       poor   37  female    10  heterosexual or straight   other  white   \n",
       "\n",
       "   married   income  poorhealth     ...      sexornt_bisexual  \\\n",
       "0        1  18750.0           0     ...                     0   \n",
       "1        1  18750.0           0     ...                     0   \n",
       "2        1      NaN           0     ...                     0   \n",
       "3        1      NaN           0     ...                     0   \n",
       "4        0      NaN           1     ...                     0   \n",
       "\n",
       "   sexornt_dont know  sexornt_heterosexual or straight  \\\n",
       "0                  0                                 1   \n",
       "1                  0                                 1   \n",
       "2                  0                                 1   \n",
       "3                  0                                 1   \n",
       "4                  0                                 1   \n",
       "\n",
       "   sexornt_homosexual or gay  partyid_dem  partyid_other  partyid_rep  \\\n",
       "0                          0            0              0            1   \n",
       "1                          0            0              0            1   \n",
       "2                          0            0              0            1   \n",
       "3                          0            0              1            0   \n",
       "4                          0            0              1            0   \n",
       "\n",
       "   race_black  race_other  race_white  \n",
       "0           0           0           1  \n",
       "1           0           0           1  \n",
       "2           0           0           1  \n",
       "3           0           0           1  \n",
       "4           0           0           1  \n",
       "\n",
       "[5 rows x 23 columns]"
      ]
     },
     "execution_count": 8,
     "metadata": {},
     "output_type": "execute_result"
    }
   ],
   "source": [
    "print(gssdata.shape)\n",
    "gssdata.head()"
   ]
  },
  {
   "cell_type": "code",
   "execution_count": 10,
   "metadata": {},
   "outputs": [
    {
     "name": "stdout",
     "output_type": "stream",
     "text": [
      "(963, 23)\n",
      "1.6614745586708204\n"
     ]
    },
    {
     "data": {
      "text/html": [
       "<div>\n",
       "<style scoped>\n",
       "    .dataframe tbody tr th:only-of-type {\n",
       "        vertical-align: middle;\n",
       "    }\n",
       "\n",
       "    .dataframe tbody tr th {\n",
       "        vertical-align: top;\n",
       "    }\n",
       "\n",
       "    .dataframe thead th {\n",
       "        text-align: right;\n",
       "    }\n",
       "</style>\n",
       "<table border=\"1\" class=\"dataframe\">\n",
       "  <thead>\n",
       "    <tr style=\"text-align: right;\">\n",
       "      <th></th>\n",
       "      <th>health</th>\n",
       "      <th>age</th>\n",
       "      <th>sex</th>\n",
       "      <th>educ</th>\n",
       "      <th>sexornt</th>\n",
       "      <th>partyid</th>\n",
       "      <th>race</th>\n",
       "      <th>married</th>\n",
       "      <th>income</th>\n",
       "      <th>poorhealth</th>\n",
       "      <th>...</th>\n",
       "      <th>sexornt_bisexual</th>\n",
       "      <th>sexornt_dont know</th>\n",
       "      <th>sexornt_heterosexual or straight</th>\n",
       "      <th>sexornt_homosexual or gay</th>\n",
       "      <th>partyid_dem</th>\n",
       "      <th>partyid_other</th>\n",
       "      <th>partyid_rep</th>\n",
       "      <th>race_black</th>\n",
       "      <th>race_other</th>\n",
       "      <th>race_white</th>\n",
       "    </tr>\n",
       "  </thead>\n",
       "  <tbody>\n",
       "    <tr>\n",
       "      <th>0</th>\n",
       "      <td>excellent</td>\n",
       "      <td>53</td>\n",
       "      <td>male</td>\n",
       "      <td>16</td>\n",
       "      <td>heterosexual or straight</td>\n",
       "      <td>rep</td>\n",
       "      <td>white</td>\n",
       "      <td>1</td>\n",
       "      <td>18750.0</td>\n",
       "      <td>0</td>\n",
       "      <td>...</td>\n",
       "      <td>0</td>\n",
       "      <td>0</td>\n",
       "      <td>1</td>\n",
       "      <td>0</td>\n",
       "      <td>0</td>\n",
       "      <td>0</td>\n",
       "      <td>1</td>\n",
       "      <td>0</td>\n",
       "      <td>0</td>\n",
       "      <td>1</td>\n",
       "    </tr>\n",
       "    <tr>\n",
       "      <th>1</th>\n",
       "      <td>excellent</td>\n",
       "      <td>26</td>\n",
       "      <td>female</td>\n",
       "      <td>16</td>\n",
       "      <td>heterosexual or straight</td>\n",
       "      <td>rep</td>\n",
       "      <td>white</td>\n",
       "      <td>1</td>\n",
       "      <td>18750.0</td>\n",
       "      <td>0</td>\n",
       "      <td>...</td>\n",
       "      <td>0</td>\n",
       "      <td>0</td>\n",
       "      <td>1</td>\n",
       "      <td>0</td>\n",
       "      <td>0</td>\n",
       "      <td>0</td>\n",
       "      <td>1</td>\n",
       "      <td>0</td>\n",
       "      <td>0</td>\n",
       "      <td>1</td>\n",
       "    </tr>\n",
       "    <tr>\n",
       "      <th>5</th>\n",
       "      <td>excellent</td>\n",
       "      <td>30</td>\n",
       "      <td>female</td>\n",
       "      <td>15</td>\n",
       "      <td>heterosexual or straight</td>\n",
       "      <td>other</td>\n",
       "      <td>other</td>\n",
       "      <td>1</td>\n",
       "      <td>18750.0</td>\n",
       "      <td>0</td>\n",
       "      <td>...</td>\n",
       "      <td>0</td>\n",
       "      <td>0</td>\n",
       "      <td>1</td>\n",
       "      <td>0</td>\n",
       "      <td>0</td>\n",
       "      <td>1</td>\n",
       "      <td>0</td>\n",
       "      <td>0</td>\n",
       "      <td>1</td>\n",
       "      <td>0</td>\n",
       "    </tr>\n",
       "    <tr>\n",
       "      <th>9</th>\n",
       "      <td>excellent</td>\n",
       "      <td>30</td>\n",
       "      <td>female</td>\n",
       "      <td>14</td>\n",
       "      <td>heterosexual or straight</td>\n",
       "      <td>other</td>\n",
       "      <td>black</td>\n",
       "      <td>1</td>\n",
       "      <td>16250.0</td>\n",
       "      <td>0</td>\n",
       "      <td>...</td>\n",
       "      <td>0</td>\n",
       "      <td>0</td>\n",
       "      <td>1</td>\n",
       "      <td>0</td>\n",
       "      <td>0</td>\n",
       "      <td>1</td>\n",
       "      <td>0</td>\n",
       "      <td>1</td>\n",
       "      <td>0</td>\n",
       "      <td>0</td>\n",
       "    </tr>\n",
       "    <tr>\n",
       "      <th>12</th>\n",
       "      <td>good</td>\n",
       "      <td>38</td>\n",
       "      <td>female</td>\n",
       "      <td>15</td>\n",
       "      <td>heterosexual or straight</td>\n",
       "      <td>dem</td>\n",
       "      <td>white</td>\n",
       "      <td>0</td>\n",
       "      <td>18750.0</td>\n",
       "      <td>0</td>\n",
       "      <td>...</td>\n",
       "      <td>0</td>\n",
       "      <td>0</td>\n",
       "      <td>1</td>\n",
       "      <td>0</td>\n",
       "      <td>1</td>\n",
       "      <td>0</td>\n",
       "      <td>0</td>\n",
       "      <td>0</td>\n",
       "      <td>0</td>\n",
       "      <td>1</td>\n",
       "    </tr>\n",
       "  </tbody>\n",
       "</table>\n",
       "<p>5 rows × 23 columns</p>\n",
       "</div>"
      ],
      "text/plain": [
       "       health  age     sex  educ                   sexornt partyid   race  \\\n",
       "0   excellent   53    male    16  heterosexual or straight     rep  white   \n",
       "1   excellent   26  female    16  heterosexual or straight     rep  white   \n",
       "5   excellent   30  female    15  heterosexual or straight   other  other   \n",
       "9   excellent   30  female    14  heterosexual or straight   other  black   \n",
       "12       good   38  female    15  heterosexual or straight     dem  white   \n",
       "\n",
       "    married   income  poorhealth     ...      sexornt_bisexual  \\\n",
       "0         1  18750.0           0     ...                     0   \n",
       "1         1  18750.0           0     ...                     0   \n",
       "5         1  18750.0           0     ...                     0   \n",
       "9         1  16250.0           0     ...                     0   \n",
       "12        0  18750.0           0     ...                     0   \n",
       "\n",
       "    sexornt_dont know  sexornt_heterosexual or straight  \\\n",
       "0                   0                                 1   \n",
       "1                   0                                 1   \n",
       "5                   0                                 1   \n",
       "9                   0                                 1   \n",
       "12                  0                                 1   \n",
       "\n",
       "    sexornt_homosexual or gay  partyid_dem  partyid_other  partyid_rep  \\\n",
       "0                           0            0              0            1   \n",
       "1                           0            0              0            1   \n",
       "5                           0            0              1            0   \n",
       "9                           0            0              1            0   \n",
       "12                          0            1              0            0   \n",
       "\n",
       "    race_black  race_other  race_white  \n",
       "0            0           0           1  \n",
       "1            0           0           1  \n",
       "5            0           1           0  \n",
       "9            1           0           0  \n",
       "12           0           0           1  \n",
       "\n",
       "[5 rows x 23 columns]"
      ]
     },
     "execution_count": 10,
     "metadata": {},
     "output_type": "execute_result"
    }
   ],
   "source": [
    "gssdata_full = gssdata.dropna(how='any')\n",
    "print(gssdata_full.shape)\n",
    "print(100*gssdata_full.poorhealth.mean())\n",
    "gssdata_full.head()"
   ]
  },
  {
   "cell_type": "code",
   "execution_count": 11,
   "metadata": {},
   "outputs": [
    {
     "data": {
      "text/plain": [
       "((481,), (481, 6), (482,), (482, 6))"
      ]
     },
     "execution_count": 11,
     "metadata": {},
     "output_type": "execute_result"
    }
   ],
   "source": [
    "from sklearn.model_selection import train_test_split\n",
    "itrain, itest = train_test_split(range(gssdata_full.shape[0]), train_size=0.50)\n",
    "#gsstemp = gssdata_full.drop(['health','fairhealth','goodhealth','excellenthealth','sex','sexornt','partyid','race'],axis=1)\n",
    "gsstemp = gssdata_full[['age','educ','female','partyid_dem','partyid_rep','income']]\n",
    "X_train = gsstemp.iloc[itrain, :]\n",
    "X_test = gsstemp.iloc[itest, :]\n",
    "y_train = gssdata_full['poorhealth'].iloc[itrain]\n",
    "y_test = gssdata_full['poorhealth'].iloc[itest]\n",
    "\n",
    "y_train.shape, X_train.shape, y_test.shape, X_test.shape"
   ]
  },
  {
   "cell_type": "code",
   "execution_count": 85,
   "metadata": {},
   "outputs": [
    {
     "name": "stdout",
     "output_type": "stream",
     "text": [
      "0.9896265560165975\n"
     ]
    }
   ],
   "source": [
    "logit = LogisticRegression(C=1000000)\n",
    "logit.fit(X_train, y_train) \n",
    "print(logit.score(X_test,y_test))"
   ]
  },
  {
   "cell_type": "code",
   "execution_count": 17,
   "metadata": {},
   "outputs": [],
   "source": [
    "from sklearn.metrics import confusion_matrix"
   ]
  },
  {
   "cell_type": "code",
   "execution_count": 86,
   "metadata": {},
   "outputs": [
    {
     "name": "stdout",
     "output_type": "stream",
     "text": [
      "[[477   0]\n",
      " [  5   0]]\n"
     ]
    },
    {
     "data": {
      "image/png": "[encoded data removed]",
      "text/plain": [
       "<Figure size 432x288 with 1 Axes>"
      ]
     },
     "metadata": {
      "needs_background": "light"
     },
     "output_type": "display_data"
    }
   ],
   "source": [
    "from sklearn.metrics import confusion_matrix\n",
    "print(confusion_matrix(y_test,logit.predict(X_test)))\n",
    "yhats = logit.predict_proba(X_train)\n",
    "hist = plt.hist(yhats[:,1])"
   ]
  },
  {
   "cell_type": "code",
   "execution_count": 24,
   "metadata": {},
   "outputs": [
    {
     "data": {
      "text/plain": [
       "array([[477,   0],\n",
       "       [  5,   0]], dtype=int64)"
      ]
     },
     "execution_count": 24,
     "metadata": {},
     "output_type": "execute_result"
    }
   ],
   "source": [
    "confusion_matrix(y_test,logit.predict(X_test))"
   ]
  },
  {
   "cell_type": "code",
   "execution_count": 38,
   "metadata": {},
   "outputs": [],
   "source": [
    "yhats = logit.predict_proba(X_train)[:,1]"
   ]
  },
  {
   "cell_type": "code",
   "execution_count": 43,
   "metadata": {},
   "outputs": [
    {
     "data": {
      "text/plain": [
       "array([[423,  47],\n",
       "       [  6,   5]], dtype=int64)"
      ]
     },
     "execution_count": 43,
     "metadata": {},
     "output_type": "execute_result"
    }
   ],
   "source": [
    "confusion_matrix(y_train,yhats>0.06)"
   ]
  },
  {
   "cell_type": "code",
   "execution_count": 87,
   "metadata": {},
   "outputs": [],
   "source": [
    "def t_repredict(est, t, xtest):\n",
    "    probs = est.predict_proba(xtest)\n",
    "    p0 = probs[:,0]\n",
    "    p1 = probs[:,1]\n",
    "    ypred = (p1 > t)*1\n",
    "    return ypred"
   ]
  },
  {
   "cell_type": "code",
   "execution_count": 88,
   "metadata": {},
   "outputs": [
    {
     "name": "stdout",
     "output_type": "stream",
     "text": [
      "[[440  37]\n",
      " [  5   0]]\n",
      "[[423  47]\n",
      " [  6   5]]\n"
     ]
    }
   ],
   "source": [
    "print(confusion_matrix(y_test,t_repredict(logit, 0.06, X_test)))\n",
    "print(confusion_matrix(y_train,t_repredict(logit, 0.06, X_train)))"
   ]
  },
  {
   "cell_type": "code",
   "execution_count": 49,
   "metadata": {},
   "outputs": [],
   "source": [
    "from sklearn.metrics import roc_curve,auc\n",
    "fpr, tpr, thresholds=roc_curve(y_train, logit.predict_proba(X_train)[:,1])"
   ]
  },
  {
   "cell_type": "code",
   "execution_count": 74,
   "metadata": {},
   "outputs": [
    {
     "data": {
      "text/plain": [
       "Text(0.5,1,'ROC')"
      ]
     },
     "execution_count": 74,
     "metadata": {},
     "output_type": "execute_result"
    },
    {
     "data": {
      "image/png": "[encoded data removed]",
      "text/plain": [
       "<Figure size 720x720 with 1 Axes>"
      ]
     },
     "metadata": {
      "needs_background": "light"
     },
     "output_type": "display_data"
    }
   ],
   "source": [
    "plt.figure(figsize=(10,10))\n",
    "name = 'Logictic Regression'\n",
    "roc_auc = auc(fpr,tpr)\n",
    "plt.plot(fpr,tpr,'.-',alpha=0.3, label='ROC curve for %s (area = %0.2f)' % (name, roc_auc))\n",
    "plt.plot([0,1],[0,1],'k--',)\n",
    "label_kwargs = {}\n",
    "label_kwargs['bbox'] = dict(\n",
    "        boxstyle='round,pad=0.3', alpha=0.2,\n",
    "    )\n",
    "for k in range(0,fpr.shape[0],5):\n",
    "    treshold = np.round(thresholds[k],2)\n",
    "    plt.annotate(treshold,(fpr[k],tpr[k]),**label_kwargs)\n",
    "ax = plt.gca()\n",
    "ax.set_xlim([0.0, 1.0])\n",
    "ax.set_ylim([0.0, 1.05])\n",
    "ax.set_xlabel('False Positive Rate')\n",
    "ax.set_ylabel('True Positive Rate')\n",
    "ax.set_title('ROC')"
   ]
  },
  {
   "cell_type": "code",
   "execution_count": 75,
   "metadata": {},
   "outputs": [
    {
     "data": {
      "text/plain": [
       "(array([ 35.,  21.,  39.,  25.,  14.,  71.,   0.,  66.,  96., 596.]),\n",
       " array([  500.,  2325.,  4150.,  5975.,  7800.,  9625., 11450., 13275.,\n",
       "        15100., 16925., 18750.]),\n",
       " <a list of 10 Patch objects>)"
      ]
     },
     "execution_count": 75,
     "metadata": {},
     "output_type": "execute_result"
    },
    {
     "data": {
      "image/png": "[encoded data removed]",
      "text/plain": [
       "<Figure size 432x288 with 1 Axes>"
      ]
     },
     "metadata": {
      "needs_background": "light"
     },
     "output_type": "display_data"
    }
   ],
   "source": [
    "plt.hist(gssdata_full.income)"
   ]
  },
  {
   "cell_type": "code",
   "execution_count": 90,
   "metadata": {},
   "outputs": [
    {
     "data": {
      "image/png": "[encoded data removed]",
      "text/plain": [
       "<Figure size 432x288 with 1 Axes>"
      ]
     },
     "metadata": {
      "needs_background": "light"
     },
     "output_type": "display_data"
    }
   ],
   "source": [
    "gssdata2 = gssdata.copy()\n",
    "gssdata2['income'] = gssdata['income'].fillna(gssdata_full['income'].mean())\n",
    "hit = plt.hist(gssdata2['income'])"
   ]
  },
  {
   "cell_type": "code",
   "execution_count": 91,
   "metadata": {},
   "outputs": [
    {
     "name": "stdout",
     "output_type": "stream",
     "text": [
      "0.9394329896907216\n"
     ]
    },
    {
     "data": {
      "text/plain": [
       "array([[ 1.85192751e-02, -1.91500950e-01, -1.38070295e-02,\n",
       "         2.85239154e-03, -9.85850548e-03, -6.68024355e-05]])"
      ]
     },
     "execution_count": 91,
     "metadata": {},
     "output_type": "execute_result"
    }
   ],
   "source": [
    "from sklearn.model_selection import train_test_split\n",
    "itrain, itest = train_test_split(range(gssdata2.shape[0]), train_size=0.50)\n",
    "#gsstemp = gssdata_full.drop(['health','fairhealth','goodhealth','excellenthealth','sex','sexornt','partyid','race'],axis=1)\n",
    "gsstemp = gssdata2[['age','educ','female','partyid_dem','partyid_rep','income']]\n",
    "X_train2 = gsstemp.iloc[itrain, :]\n",
    "X_test2 = gsstemp.iloc[itest, :]\n",
    "y_train2 = gssdata2['poorhealth'].iloc[itrain]\n",
    "y_test2 = gssdata2['poorhealth'].iloc[itest]\n",
    "\n",
    "y_train.shape, X_train.shape, y_test.shape, X_test.shape\n",
    "\n",
    "logit2 = LogisticRegression(C=1000000)\n",
    "logit2.fit(X_train2, y_train2) \n",
    "print(logit2.score(X_test2,y_test2))\n",
    "logit2.coef_"
   ]
  },
  {
   "cell_type": "code",
   "execution_count": 101,
   "metadata": {},
   "outputs": [
    {
     "data": {
      "text/plain": [
       "array([[721,   1],\n",
       "       [ 53,   0]], dtype=int64)"
      ]
     },
     "execution_count": 101,
     "metadata": {},
     "output_type": "execute_result"
    }
   ],
   "source": [
    "yhats = logit2.predict_proba(X_train2)[:,1]\n",
    "confusion_matrix(y_train2 , yhats > 0.5)"
   ]
  },
  {
   "cell_type": "code",
   "execution_count": 102,
   "metadata": {},
   "outputs": [
    {
     "data": {
      "text/plain": [
       "array([[719,   3],\n",
       "       [ 52,   1]], dtype=int64)"
      ]
     },
     "execution_count": 102,
     "metadata": {},
     "output_type": "execute_result"
    }
   ],
   "source": [
    "confusion_matrix(y_train2 , yhats > 0.3)"
   ]
  },
  {
   "cell_type": "code",
   "execution_count": 104,
   "metadata": {},
   "outputs": [],
   "source": [
    "fpr,tpr,thresholds = roc_curve(y_train2,logit2.predict_proba(X_train2)[:,1])"
   ]
  },
  {
   "cell_type": "code",
   "execution_count": 114,
   "metadata": {},
   "outputs": [
    {
     "data": {
      "text/plain": [
       "[<matplotlib.lines.Line2D at 0x188651cf1d0>]"
      ]
     },
     "execution_count": 114,
     "metadata": {},
     "output_type": "execute_result"
    },
    {
     "data": {
      "image/png": "[encoded data removed]",
      "text/plain": [
       "<Figure size 720x720 with 1 Axes>"
      ]
     },
     "metadata": {
      "needs_background": "light"
     },
     "output_type": "display_data"
    }
   ],
   "source": [
    "plt.figure(figsize=(10,10))\n",
    "roc_auc = auc(fpr,tpr)\n",
    "name = 'Logit Regression'\n",
    "plt.plot(fpr,tpr,'.-',alpha=0.3, label='ROC curve for %s (area = %0.2f)' % (name, roc_auc))\n",
    "label_kwargs = {}\n",
    "label_kwargs['bbox'] = dict(boxstyle ='round,pad=0.3',alpha = 0.3)\n",
    "for i in range(0,len(fpr),10):\n",
    "    plt.annotate(np.round(thresholds[i],2),(fpr[i],tpr[i]),**label_kwargs)\n",
    "plt.legend()\n",
    "plt.plot([0,1],[0,1],'k--')"
   ]
  },
  {
   "cell_type": "code",
   "execution_count": null,
   "metadata": {},
   "outputs": [],
   "source": []
  }
 ],
 "metadata": {
  "kernelspec": {
   "display_name": "Python 3",
   "language": "python",
   "name": "python3"
  },
  "language_info": {
   "codemirror_mode": {
    "name": "ipython",
    "version": 3
   },
   "file_extension": ".py",
   "mimetype": "text/x-python",
   "name": "python",
   "nbconvert_exporter": "python",
   "pygments_lexer": "ipython3",
   "version": "3.7.0"
  }
 },
 "nbformat": 4,
 "nbformat_minor": 2
}
