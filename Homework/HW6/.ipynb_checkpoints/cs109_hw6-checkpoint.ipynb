{
 "cells": [
  {
   "cell_type": "markdown",
   "metadata": {},
   "source": [
    "# CS 109A/STAT 121A/AC 209A/CSCI E-109A: Homework 6\n",
    "# Reg-Logistic Regression, ROC, and Data Imputation\n",
    "\n",
    "**Harvard University**<br/>\n",
    "**Fall 2017**<br/>\n",
    "**Instructors**: Pavlos Protopapas, Kevin Rader, Rahul Dave, Margo Levine\n",
    "\n",
    "---\n",
    "\n",
    "### INSTRUCTIONS\n",
    "\n",
    "- To submit your assignment follow the instructions given in canvas.\n",
    "- Restart the kernel and run the whole notebook again before you submit. \n",
    "- Do not include your name(s) in the notebook if you are submitting as a group. \n",
    "- If you submit individually and you have worked with someone, please include the name of your [one] partner below. \n",
    "\n",
    "---"
   ]
  },
  {
   "cell_type": "markdown",
   "metadata": {},
   "source": [
    "Your partner's name (if you submit separately):\n",
    "\n",
    "Enrollment Status (109A, 121A, 209A, or E109A):"
   ]
  },
  {
   "cell_type": "markdown",
   "metadata": {},
   "source": [
    "Import libraries:"
   ]
  },
  {
   "cell_type": "code",
   "execution_count": 1,
   "metadata": {},
   "outputs": [],
   "source": [
    "import numpy as np\n",
    "import pandas as pd\n",
    "import matplotlib\n",
    "import matplotlib.pyplot as plt\n",
    "from sklearn.linear_model import LogisticRegressionCV\n",
    "import sklearn.metrics as metrics\n",
    "from sklearn.preprocessing import PolynomialFeatures\n",
    "from sklearn.discriminant_analysis import LinearDiscriminantAnalysis\n",
    "from sklearn.discriminant_analysis import QuadraticDiscriminantAnalysis\n",
    "from sklearn.neighbors import KNeighborsClassifier\n",
    "from sklearn.tree import DecisionTreeClassifier\n",
    "from sklearn.model_selection import cross_val_score\n",
    "from sklearn.metrics import accuracy_score\n",
    "\n",
    "from sklearn.tree import export_graphviz\n",
    "from IPython.display import Image\n",
    "from IPython.display import display\n",
    "%matplotlib inline"
   ]
  },
  {
   "cell_type": "code",
   "execution_count": 2,
   "metadata": {},
   "outputs": [],
   "source": [
    "import warnings\n",
    "warnings.simplefilter('ignore')"
   ]
  },
  {
   "cell_type": "markdown",
   "metadata": {},
   "source": [
    "## Automated Breast Cancer Detection\n",
    "\n",
    "In this homework, we will consider the problem of early breast cancer detection from X-ray images. Specifically, given a candidate region of interest (ROI) from an X-ray image of a patient's breast, the goal is to predict if the region corresponds to a malignant tumor (label 1) or is normal (label 0). The training and test data sets for this problem is provided in the file `hw6_dataset.csv`. Each row in these files corresponds to a ROI in a patient's X-ray, with columns 1-117 containing features computed using standard image processing algorithms. The last column contains the class label, and is based on a radiologist's opinion or a biopsy. This data was obtained from the KDD Cup 2008 challenge.\n",
    "\n",
    "The data set contain a total of 69,098 candidate ROIs, of which only 409 are malignant, while the remaining are all normal. \n",
    "\n",
    "*Note*: be careful of reading/treating column names and row names in this data set."
   ]
  },
  {
   "cell_type": "markdown",
   "metadata": {},
   "source": [
    "## Question 1: Beyond Classification Accuracy\n",
    "\n",
    "\n",
    "0.  Split the data set into a training set and a testing set.  The training set should be 75% of the original data set, and the testing set 25%.  Use `np.random.seed(9001)`.\n",
    "\n",
    "1. Fit a logistic regression classifier to the training set and report the  accuracy of the classifier on the test set. You should use $L_2$ regularization in logistic regression, with the regularization parameter tuned using cross-validation. \n",
    "    1. How does the fitted model compare with a classifier that predicts 'normal' (label 0) on all patients? \n",
    "    2. Do you think the difference in the classification accuracies are large enough to declare logistic regression as a better classifier than the all 0's classifier? Why or why not?\n",
    "    \n",
    "For applications with imbalanced class labels, in this case when there are many more healthy subjects ($Y=0$) than those with cancer ($Y=1$), the classification accuracy may not be the best metric to evaluate a classifier's performance. As an alternative, we could analyze the confusion table for the classifier. \n",
    "\n",
    "<ol start=\"3\">\n",
    "<li> Compute the confusion table for both the fitted classifier and the classifier that predicts all 0's.</li>\n",
    "<li> Using the entries of the confusion table compute the *true positive rate* and the *true negative rate* for the two classifiers. Explain what these evaluation metrics mean for the specific task of cancer detection. Based on the observed metrics, comment on whether the fitted model is better than the all 0's classifier.</li>\n",
    "<li> What is the *false positive rate* of the fitted classifier, and how is it related to its true positive and true negative rate? Why is a classifier with high false positive rate undesirable for a cancer detection task?</li>\n",
    "</ol>\n",
    "*Hint:* You may use the `metrics.confusion_matrix` function to compute the confusion matrix for a classification model."
   ]
  },
  {
   "cell_type": "code",
   "execution_count": 3,
   "metadata": {},
   "outputs": [],
   "source": [
    "data = pd.read_csv(r'C:\\Users\\ashwi\\Desktop\\CS109\\Data\\hw6_dataset.csv',low_memory=False,header=0,names=list(range(1,118))+['type'])"
   ]
  },
  {
   "cell_type": "code",
   "execution_count": 4,
   "metadata": {},
   "outputs": [
    {
     "name": "stdout",
     "output_type": "stream",
     "text": [
      "The shape of Entire dataset :(69097, 118),\n",
      "Train : (52009, 118),\n",
      "Test :(17088, 118)\n"
     ]
    }
   ],
   "source": [
    "np.random.seed(9001)\n",
    "msk = np.random.rand(data.shape[0])<0.75\n",
    "train = data[msk]\n",
    "test = data[~msk]\n",
    "print('The shape of Entire dataset :{},\\nTrain : {},\\nTest :{}'.format(data.shape,train.shape,test.shape))"
   ]
  },
  {
   "cell_type": "code",
   "execution_count": 5,
   "metadata": {},
   "outputs": [],
   "source": [
    "X_train = train[list(range(1,118))]\n",
    "y_train = train['type']\n",
    "X_test = test[list(range(1,118))]\n",
    "y_test = test['type']"
   ]
  },
  {
   "cell_type": "code",
   "execution_count": 6,
   "metadata": {},
   "outputs": [],
   "source": [
    "logit_cv = LogisticRegressionCV(cv=10,penalty='l2',fit_intercept=True)"
   ]
  },
  {
   "cell_type": "code",
   "execution_count": 7,
   "metadata": {
    "scrolled": true
   },
   "outputs": [
    {
     "data": {
      "text/plain": [
       "LogisticRegressionCV(Cs=10, class_weight=None, cv=10, dual=False,\n",
       "                     fit_intercept=True, intercept_scaling=1.0, l1_ratios=None,\n",
       "                     max_iter=100, multi_class='warn', n_jobs=None,\n",
       "                     penalty='l2', random_state=None, refit=True, scoring=None,\n",
       "                     solver='lbfgs', tol=0.0001, verbose=0)"
      ]
     },
     "execution_count": 7,
     "metadata": {},
     "output_type": "execute_result"
    }
   ],
   "source": [
    "logit_cv.fit(X_train,y_train)"
   ]
  },
  {
   "cell_type": "code",
   "execution_count": 8,
   "metadata": {},
   "outputs": [
    {
     "name": "stdout",
     "output_type": "stream",
     "text": [
      "The R sq. for Train set 0.9955200061527812\n",
      "The R sq. for Train set 0.9952598314606742\n"
     ]
    }
   ],
   "source": [
    "print('The R sq. for Train set',logit_cv.score(X_train,y_train))\n",
    "print('The R sq. for Train set',logit_cv.score(X_test,y_test))"
   ]
  },
  {
   "cell_type": "code",
   "execution_count": 9,
   "metadata": {},
   "outputs": [
    {
     "name": "stdout",
     "output_type": "stream",
     "text": [
      "The Accuracy for Train set 0.9955200061527812\n",
      "The Accuracy for Test set 0.9952598314606742\n"
     ]
    }
   ],
   "source": [
    "print('The Accuracy for Train set',accuracy_score(y_train,logit_cv.predict(X_train)))\n",
    "print('The Accuracy for Test set',accuracy_score(y_test,logit_cv.predict(X_test)))"
   ]
  },
  {
   "cell_type": "code",
   "execution_count": 10,
   "metadata": {},
   "outputs": [
    {
     "name": "stdout",
     "output_type": "stream",
     "text": [
      "Train accuracy:  0.9941356303716664\n",
      "Test accuracy:  0.9939138576779026\n"
     ]
    }
   ],
   "source": [
    "print(\"Train accuracy: \", accuracy_score(y_train, [0 for y in y_train]))\n",
    "print(\"Test accuracy: \", accuracy_score(y_test, [0 for y in y_test]))"
   ]
  },
  {
   "cell_type": "code",
   "execution_count": 11,
   "metadata": {},
   "outputs": [
    {
     "name": "stdout",
     "output_type": "stream",
     "text": [
      "For Train Logit\n",
      "\n",
      " [[51688    16]\n",
      " [  217    88]]\n",
      "For Test Logit\n",
      "\n",
      " [[16976     8]\n",
      " [   73    31]]\n",
      "For Train Dumb\n",
      "\n",
      " [[51704     0]\n",
      " [  305     0]]\n",
      "For Test Dumb\n",
      "\n",
      " [[16984     0]\n",
      " [  104     0]]\n"
     ]
    }
   ],
   "source": [
    "from sklearn.metrics import confusion_matrix\n",
    "print('For Train Logit\\n\\n',confusion_matrix(y_train,logit_cv.predict(X_train)))\n",
    "print('For Test Logit\\n\\n',confusion_matrix(y_test,logit_cv.predict(X_test)))\n",
    "print('For Train Dumb\\n\\n',confusion_matrix(y_train,[0 for y in y_train]))\n",
    "print('For Test Dumb\\n\\n',confusion_matrix(y_test,[0 for y in y_test]))"
   ]
  },
  {
   "cell_type": "code",
   "execution_count": 14,
   "metadata": {},
   "outputs": [
    {
     "name": "stdout",
     "output_type": "stream",
     "text": [
      "For Test Logit\n",
      "\n",
      "      y_hat=0  y_hat = 1\n",
      "y=0    16976          8\n",
      "y=1       73         31\n",
      "\n",
      "For Test Dumb\n",
      "\n",
      "      y_hat=0  y_hat = 1\n",
      "y=0    16984          0\n",
      "y=1      104          0\n"
     ]
    }
   ],
   "source": [
    "print('For Test Logit\\n\\n',pd.DataFrame(confusion_matrix(y_test,logit_cv.predict(X_test)),columns=['y_hat=0','y_hat = 1'],index=['y=0','y=1']))\n",
    "print('\\nFor Test Dumb\\n\\n',pd.DataFrame(confusion_matrix(y_test,[0 for y in y_test]),columns=['y_hat=0','y_hat = 1'],index=['y=0','y=1']))"
   ]
  },
  {
   "cell_type": "code",
   "execution_count": 24,
   "metadata": {},
   "outputs": [],
   "source": [
    "tn, fp, fn, tp = confusion_matrix(y_test,logit_cv.predict(X_test)).ravel()"
   ]
  },
  {
   "cell_type": "code",
   "execution_count": 21,
   "metadata": {},
   "outputs": [
    {
     "name": "stdout",
     "output_type": "stream",
     "text": [
      "True Positive Rate for Fitted:  0.2980769230769231\n",
      "True Negative Rate for Fitted:  0.9995289684408856\n"
     ]
    }
   ],
   "source": [
    "print(\"True Positive Rate for Fitted: \", float(tp)/float(fn+tp))\n",
    "print(\"True Negative Rate for Fitted: \", float(tn)/float(tn+fp))"
   ]
  },
  {
   "cell_type": "code",
   "execution_count": 22,
   "metadata": {},
   "outputs": [],
   "source": [
    "tn, fp, fn, tp = confusion_matrix(y_test,[0 for y in y_test]).ravel()"
   ]
  },
  {
   "cell_type": "code",
   "execution_count": 23,
   "metadata": {},
   "outputs": [
    {
     "name": "stdout",
     "output_type": "stream",
     "text": [
      "True Positive Rate for Fitted:  0.0\n",
      "True Negative Rate for Fitted:  1.0\n"
     ]
    }
   ],
   "source": [
    "print(\"True Positive Rate for Fitted: \", float(tp)/float(fn+tp))\n",
    "print(\"True Negative Rate for Fitted: \", float(tn)/float(tn+fp))"
   ]
  },
  {
   "cell_type": "code",
   "execution_count": 25,
   "metadata": {},
   "outputs": [
    {
     "name": "stdout",
     "output_type": "stream",
     "text": [
      "False Positive Rate for Fitted:  0.0004710315591144607\n"
     ]
    }
   ],
   "source": [
    "print(\"False Positive Rate for Fitted: \", float(fp)/float(fp+tn))"
   ]
  },
  {
   "cell_type": "markdown",
   "metadata": {},
   "source": [
    "## Question 2: ROC Analysis\n",
    "\n",
    "Another powerful diagnostic tool for class-imbalanced classification tasks is the Receiver Operating Characteristic (ROC) curve. Notice that the default logistic regression classifier in `sklearn` classifies a data point by thresholding the predicted class probability $\\hat{P}(Y=1)$ at 0.5. By using a different threshold, we can adjust the trade-off between the true positive rate (TPR) and false positive rate (FPR) of the classifier. The ROC curve allows us to visualize this trade-off across all possible thresholds.\n",
    "\n",
    "\n",
    "1. Display the ROC curve for the fitted classifier on the *test set*. In the same plot, also display the ROC curve for the all 0's classifier. How do the two curves compare?\n",
    "\n",
    "2.  Compute the highest TPR that can be achieved by the classifier at each of the following FPR's, and the thresholds at which they are achieved. Based on your results, comment on how the threshold influences a classifier's FPR.\n",
    "    - FPR = 0\n",
    "    - FPR = 0.1\n",
    "    - FPR = 0.5\n",
    "    - FPR = 0.9\n",
    "- Suppose a clinician told you that diagnosing a cancer patient as normal is *twice* as critical an error as diagnosing a normal patient as having cancer. Based on this information, what threshold would you recommend the clinician to use? What is the TPR and FPR of the classifier at this threshold? \n",
    "\n",
    "- Compute the area under the ROC curve (AUC) for both the fitted classifier and the all 0's classifier. How does the difference in the AUCs of the two classifiers compare with the difference between their classification accuracies in Question 1, Part 2(A)? \n",
    "\n",
    "*Hint:* You may use the `metrics.roc_curve` function to compute the ROC curve for a classification model and the `metrics.roc_auc_score` function to compute the AUC for the model."
   ]
  },
  {
   "cell_type": "code",
   "execution_count": 26,
   "metadata": {},
   "outputs": [],
   "source": [
    "proba = logit_cv.predict_proba(X_test)[:,1]\n",
    "fpr, tpr, thresholds = metrics.roc_curve(y_test,proba)\n",
    "fpr_2, tpr_2, thresholds_2 = metrics.roc_curve(y_test,[0 for y in y_test])"
   ]
  },
  {
   "cell_type": "code",
   "execution_count": 28,
   "metadata": {},
   "outputs": [],
   "source": [
    "roc_auc = metrics.auc(fpr,tpr)\n",
    "roc_auc_2 = metrics.auc(fpr_2,tpr_2)"
   ]
  },
  {
   "cell_type": "code",
   "execution_count": 39,
   "metadata": {},
   "outputs": [
    {
     "data": {
      "text/plain": [
       "Text(0.5,1,'Receiver operating characteristic')"
      ]
     },
     "execution_count": 39,
     "metadata": {},
     "output_type": "execute_result"
    },
    {
     "data": {
      "image/png": "[encoded data removed]",
      "text/plain": [
       "<Figure size 1440x720 with 1 Axes>"
      ]
     },
     "metadata": {
      "needs_background": "light"
     },
     "output_type": "display_data"
    }
   ],
   "source": [
    "plt.figure(figsize=(20,10))\n",
    "plt.plot(fpr_2,tpr_2,'--',label = 'ROC curve(Area {}) Dumb'.format(roc_auc_2))\n",
    "plt.plot(fpr,tpr,label = 'ROC curve(Area {}) LogReg'.format(round(roc_auc,2)))\n",
    "plt.legend(loc = 'best',prop ={'size':20})\n",
    "plt.xlabel('False Positive Rate')\n",
    "plt.ylabel('True Positive Rate')\n",
    "plt.title('Receiver operating characteristic')"
   ]
  },
  {
   "cell_type": "code",
   "execution_count": 41,
   "metadata": {},
   "outputs": [
    {
     "name": "stdout",
     "output_type": "stream",
     "text": [
      "0.0 1.99985898263235\n",
      "0.8076923076923077 0.0050078922067124\n",
      "0.9519230769230769 0.00013463815783101916\n",
      "0.9903846153846154 1.4047243966293708e-10\n"
     ]
    }
   ],
   "source": [
    "print(tpr[np.min([i for i, x in enumerate(fpr) if x>=0])], thresholds[np.min([i for i, x in enumerate(fpr) if x>=0])])\n",
    "print(tpr[np.min([i for i, x in enumerate(fpr) if x>=0.1])], thresholds[np.min([i for i, x in enumerate(fpr) if x>=0.1])])\n",
    "print(tpr[np.min([i for i, x in enumerate(fpr) if x>=0.5])], thresholds[np.min([i for i, x in enumerate(fpr) if x>=0.5])])\n",
    "print(tpr[np.min([i for i, x in enumerate(fpr) if x>=0.9])], thresholds[np.min([i for i, x in enumerate(fpr) if x>=0.9])])"
   ]
  },
  {
   "cell_type": "code",
   "execution_count": 68,
   "metadata": {},
   "outputs": [
    {
     "name": "stdout",
     "output_type": "stream",
     "text": [
      "Area under the ROC Curve for Fitted Classifer:  0.9224756784666112\n",
      "Area under the ROC Curve for Naive 0 Classifier:  0.5\n"
     ]
    }
   ],
   "source": [
    "print('Area under the ROC Curve for Fitted Classifer: ', roc_auc)\n",
    "print('Area under the ROC Curve for Naive 0 Classifier: ', roc_auc_2)"
   ]
  },
  {
   "cell_type": "code",
   "execution_count": 61,
   "metadata": {},
   "outputs": [
    {
     "data": {
      "text/plain": [
       "0.003481408633893899"
      ]
     },
     "execution_count": 61,
     "metadata": {},
     "output_type": "execute_result"
    }
   ],
   "source": [
    "new_metric  = [2*tpr[i]+(1-fpr[i]) for i in range(len(fpr))]\n",
    "thresholds[np.argmax(new_metric)]"
   ]
  },
  {
   "cell_type": "code",
   "execution_count": 60,
   "metadata": {},
   "outputs": [
    {
     "name": "stdout",
     "output_type": "stream",
     "text": [
      "True Positive Rate:  0.8557692307692307\n",
      "False Positive Rate:  0.13777673104097973\n"
     ]
    }
   ],
   "source": [
    "print('True Positive Rate: ', tpr[112])\n",
    "print('False Positive Rate: ', fpr[112])"
   ]
  },
  {
   "cell_type": "code",
   "execution_count": 67,
   "metadata": {},
   "outputs": [
    {
     "data": {
      "text/plain": [
       "0.8461538461538461"
      ]
     },
     "execution_count": 67,
     "metadata": {},
     "output_type": "execute_result"
    }
   ],
   "source": [
    "a = [(tpr[i]+(1-fpr[i])) for i in range(len(fpr))]\n",
    "thresholds[np.argmax(a)]\n",
    "tpr[np.argmax(a)]"
   ]
  },
  {
   "cell_type": "code",
   "execution_count": null,
   "metadata": {},
   "outputs": [],
   "source": []
  }
 ],
 "metadata": {
  "anaconda-cloud": {},
  "kernelspec": {
   "display_name": "Python 3",
   "language": "python",
   "name": "python3"
  },
  "language_info": {
   "codemirror_mode": {
    "name": "ipython",
    "version": 3
   },
   "file_extension": ".py",
   "mimetype": "text/x-python",
   "name": "python",
   "nbconvert_exporter": "python",
   "pygments_lexer": "ipython3",
   "version": "3.7.0"
  }
 },
 "nbformat": 4,
 "nbformat_minor": 1
}
