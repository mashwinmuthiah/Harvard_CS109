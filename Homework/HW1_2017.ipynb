{
 "cells": [
  {
   "cell_type": "markdown",
   "metadata": {},
   "source": [
    "# CS 109A/STAT 121A/AC 209A/CSCI E-109A: Homework 1\n",
    "\n",
    "\n",
    "\n",
    "**Harvard University**<br/>\n",
    "**Fall 2017**<br/>\n",
    "**Instructors**: Pavlos Protopapas, Kevin Rader, Rahul Dave, Margo Levine\n",
    "\n",
    "---\n",
    "\n",
    "### INSTRUCTIONS\n",
    "\n",
    "**WARNING**: There is web page scraping in this homework. It takes about 40 minutes. **Do not wait till the last minute** to do this homework.\n",
    "\n",
    "- To submit your assignment follow the instructions given in canvas.\n",
    "- Restart the kernel and run the whole notebook again before you submit. There is an important CAVEAT to this. DO NOT run the web-page fetching cells again. (We have provided hints like `# DO NOT RERUN THIS CELL WHEN SUBMITTING` on some of the cells where we provide the code). Instead load your data structures from the JSON files we will ask you to save below. Otherwise you will be waiting for a long time. (Another reason to not wait until the last moment to submit.)\n",
    "\n",
    "- Do not include your name in the notebook.\n",
    "\n",
    "---"
   ]
  },
  {
   "cell_type": "markdown",
   "metadata": {},
   "source": [
    "# Homework 1: Rihanna or Mariah?"
   ]
  },
  {
   "cell_type": "markdown",
   "metadata": {},
   "source": [
    "Billboard Magazine puts out a top 100 list of \"singles\" every week. Information from this list, as well as that from music sales, radio, and other sources is used to determine a top-100 \"singles\" of the year list. A **single** is typically one song, but sometimes can be two songs which are on one \"single\" record.\n",
    "\n",
    "In this homework you will: \n",
    "\n",
    "1. Scrape Wikipedia to obtain infprmation about the best singers and groups from each year (distinguishing between the two groups) as determined by the Billboard top 100 charts. You will have to clean this data. Along the way you will learn how to save data in json files to avoid repeated scraping. \n",
    "2. Scrape Wikipedia to obtain information on these singers. You will have to scrape the web pages, this time using a cache to guard against network timeouts (or your laptop going to sleep). You will again clean the data, and save it to a json file.\n",
    "3. Use pandas to represent these two datasets and merge them.\n",
    "4. Use the individual and merged datasets to visualize the performance of the artists and their songs. We have kept the amount of analysis limited here for reasons of time; but you might enjoy exploring music genres and other aspects of the music business you can find on these wikipedia pages at your own leisure."
   ]
  },
  {
   "cell_type": "markdown",
   "metadata": {},
   "source": [
    "You should have worked through Lab0 and Lab 1, and Lecture 2.  Lab 2 will help as well."
   ]
  },
  {
   "cell_type": "markdown",
   "metadata": {},
   "source": [
    "As usual, first we import the necessary libraries.  In particular, we use [Seaborn](http://stanford.edu/~mwaskom/software/seaborn/) to give us a nicer default color palette, with our plots being of large (`poster`) size and with a white-grid background. "
   ]
  },
  {
   "cell_type": "code",
   "execution_count": 1,
   "metadata": {
    "scrolled": false
   },
   "outputs": [],
   "source": [
    "%matplotlib inline\n",
    "import numpy as np\n",
    "import scipy as sp\n",
    "import matplotlib as mpl\n",
    "import matplotlib.cm as cm\n",
    "import matplotlib.pyplot as plt\n",
    "import pandas as pd\n",
    "import time\n",
    "pd.set_option('display.width', 500)\n",
    "pd.set_option('display.max_columns', 100)\n",
    "pd.set_option('display.notebook_repr_html', True)\n",
    "import seaborn as sns\n",
    "sns.set_style(\"whitegrid\")\n",
    "sns.set_context(\"poster\")"
   ]
  },
  {
   "cell_type": "markdown",
   "metadata": {},
   "source": [
    "## Q1. Scraping Wikipedia for Billboard Top 100."
   ]
  },
  {
   "cell_type": "markdown",
   "metadata": {},
   "source": [
    "In this question you will scrape Wikipedia for the Billboard's top 100 singles."
   ]
  },
  {
   "cell_type": "markdown",
   "metadata": {},
   "source": [
    "### Scraping Wikipedia for Billboard singles"
   ]
  },
  {
   "cell_type": "markdown",
   "metadata": {},
   "source": [
    "We'll be using  [BeautifulSoup](http://www.crummy.com/software/BeautifulSoup/), and suggest that you use Python's built in `requests` library to fetch the web page."
   ]
  },
  {
   "cell_type": "markdown",
   "metadata": {},
   "source": [
    "#### 1.1 Parsing the Billboard Wikipedia page for 1970"
   ]
  },
  {
   "cell_type": "markdown",
   "metadata": {},
   "source": [
    "Obtain the web page at http://en.wikipedia.org/wiki/Billboard_Year-End_Hot_100_singles_of_1970 using a HTTP GET request. From this web page we'll extract the top 100 singles and their rankings. Create a list of dictionaries, 100 of them to be precise, with entries like \n",
    "\n",
    "`{'url': '/wiki/Sugarloaf_(band)', 'ranking': 30, 'band_singer': 'Sugarloaf', 'title': 'Green-Eyed Lady'}`. \n",
    "\n",
    "If you look at that web page, you'll see a link for every song, from which you can get the `url` of the singer or band. We will use these links later to scrape information about the singer or band. From the listing we can also get the band or singer name `band_singer`, and `title` of the song.\n",
    "\n",
    "*HINT: look for a table with class `wikitable`.*"
   ]
  },
  {
   "cell_type": "markdown",
   "metadata": {
    "scrolled": true
   },
   "source": [
    "You should get something similar to this (where songs is the aforementioned list):\n",
    "\n",
    "```\n",
    "songs[2:4]\n",
    "```\n",
    "\n",
    "```\n",
    "[{'band_singer': 'The Guess Who',\n",
    "  'ranking': 3,\n",
    "  'title': '\"American Woman\"',\n",
    "  'url': '/wiki/The_Guess_Who'},\n",
    " {'band_singer': 'B.J. Thomas',\n",
    "  'ranking': 4,\n",
    "  'title': '\"Raindrops Keep Fallin\\' on My Head\"',\n",
    "  'url': '/wiki/B.J._Thomas'}]\n",
    "```"
   ]
  },
  {
   "cell_type": "markdown",
   "metadata": {},
   "source": [
    "#### 1.2 Generalize the previous: scrape Wikipedia from 1992 to 2014"
   ]
  },
  {
   "cell_type": "markdown",
   "metadata": {},
   "source": [
    "By visiting the urls similar to the ones for 1970, we can obtain the billboard top 100 for the years 1992 to 2014. (We choose these later years rather than 1970 as you might find music from this era more interesting.) Download these using Python's `requests` module and store the text from those requests in a dictionary called `yearstext`. This dictionary ought to have as its keys the years (as integers from 1992 to 2014), and as values corresponding to these keys the text of the page being fetched.\n",
    "\n",
    "You ought to sleep a second (look up `time.sleep` in Python) at the very least in-between fetching each web page: you do not want Wikipedia to think you are a marauding bot attempting to mount a denial-of-service attack."
   ]
  },
  {
   "cell_type": "markdown",
   "metadata": {},
   "source": [
    "*HINT: you might find `range` and string-interpolation useful to construct the URLs *.\n"
   ]
  },
  {
   "cell_type": "markdown",
   "metadata": {},
   "source": [
    "#### 1.3 Parse and Clean data "
   ]
  },
  {
   "cell_type": "markdown",
   "metadata": {},
   "source": [
    "Remember the code you wrote to get data from 1970 which produces a list of dictionaries, one corresponding to each single.  Now write a function `parse_year(the_year, yeartext_dict)` which takes the year, prints it out, gets the text for the year from the just created `yearstext` dictionary, and return a list of dictionaries for that year, with one dictionary for each single. Store this list in the variable `yearinfo`.\n",
    "\n",
    "The dictionaries **must** be of this form:\n",
    "\n",
    "```\n",
    "{'band_singer': ['Brandy', 'Monica'],\n",
    "  'ranking': 2,\n",
    "  'song': ['The Boy Is Mine'],\n",
    "  'songurl': ['/wiki/The_Boy_Is_Mine_(song)'],\n",
    "  'titletext': '\" The Boy Is Mine \"',\n",
    "  'url': ['/wiki/Brandy_Norwood', '/wiki/Monica_(entertainer)']}\n",
    "```"
   ]
  },
  {
   "cell_type": "markdown",
   "metadata": {},
   "source": [
    "The spec of this function is provided below:"
   ]
  },
  {
   "cell_type": "code",
   "execution_count": 80,
   "metadata": {},
   "outputs": [],
   "source": [
    "\"\"\"\n",
    "Function\n",
    "--------\n",
    "parse_year\n",
    "\n",
    "Inputs\n",
    "------\n",
    "the_year: the year you want the singles for\n",
    "yeartext_dict: a dictionary with keys as integer years and values the downloaded web pages \n",
    "    from wikipedia for that year.\n",
    "   \n",
    "Returns\n",
    "-------\n",
    "\n",
    "a list of dictionaries, each of which corresponds to a single and has the\n",
    "following data:\n",
    "\n",
    "Eg:\n",
    "\n",
    "{'band_singer': ['Brandy', 'Monica'],\n",
    "  'ranking': 2,\n",
    "  'song': ['The Boy Is Mine'],\n",
    "  'songurl': ['/wiki/The_Boy_Is_Mine_(song)'],\n",
    "  'titletext': '\" The Boy Is Mine \"',\n",
    "  'url': ['/wiki/Brandy_Norwood', '/wiki/Monica_(entertainer)']}\n",
    "  \n",
    "A dictionary with the following data:\n",
    "    band_singer: a list of bands/singers who made this single\n",
    "    song: a list of the titles of songs on this single\n",
    "    songurl: a list of the same size as song which has urls for the songs on the single \n",
    "        (see point 3 above)\n",
    "    ranking: ranking of the single\n",
    "    titletext: the contents of the table cell\n",
    "    band_singer: a list of bands or singers on this single\n",
    "    url: a list of wikipedia singer/band urls on this single: only put in the part \n",
    "        of the url from /wiki onwards\n",
    "    \n",
    "\n",
    "Notes\n",
    "-----\n",
    "See description and example above.\n",
    "\"\"\"\n",
    "import requests\n",
    "from urllib.request import urlopen\n",
    "from bs4 import BeautifulSoup\n",
    "\n",
    "def parse_year(the_year,yeartext_dict):\n",
    "    time.sleep(2)\n",
    "    url = 'https://en.wikipedia.org/wiki/Billboard_Year-End_Hot_100_singles_of_' + str(the_year)\n",
    "    print(url)\n",
    "    html = urlopen(url).read()\n",
    "    soup = BeautifulSoup(html)\n",
    "    table = soup.findAll('table')\n",
    "    table[0]\n",
    "    lis = []\n",
    "    if ((the_year == 2012) or (the_year == 2013)) :\n",
    "        n = 1\n",
    "    else:n = 0\n",
    "    lists = table[n].findAll('tr')\n",
    "    for i in lists[1:]:\n",
    "        dictionary = {'band_singer':[],\n",
    "                 'ranking':[],\n",
    "                 'song':[],\n",
    "                  'songurl':[],\n",
    "                  'titletext':[],\n",
    "                  'url': []\n",
    "                 }\n",
    "        th = i.findAll('th')\n",
    "        td = i.findAll('td')\n",
    "        dictionary['ranking'].append(th[0].string) #rank\n",
    "        a = td[0].findAll('a')\n",
    "        for i in a:\n",
    "            dictionary['songurl'].append(i.attrs['href']) #song url\n",
    "            dictionary['song'].append(i.string) #songtitle\n",
    "        try:\n",
    "            dictionary['titletext'].append(a[0].attrs['title']) #title text\n",
    "        except:\n",
    "            dictionary['titletext'].append(None)\n",
    "        for j in td[1]:\n",
    "            try:\n",
    "                dictionary['url'].append(j.attrs['href']) # singer url\n",
    "                dictionary['band_singer'].append(j.string) #singer name\n",
    "            except:\n",
    "                None\n",
    "    \n",
    "        lis.append(dictionary)\n",
    "    return lis"
   ]
  },
  {
   "cell_type": "markdown",
   "metadata": {},
   "source": [
    "#### Helpful notes\n",
    "\n",
    "Notice that some singles might have multiple songs:\n",
    "\n",
    "```\n",
    "{'band_singer': ['Jewel'],\n",
    "  'ranking': 2,\n",
    "  'song': ['Foolish Games', 'You Were Meant for Me'],\n",
    "  'songurl': ['/wiki/Foolish_Games',\n",
    "   '/wiki/You_Were_Meant_for_Me_(Jewel_song)'],\n",
    "  'titletext': '\" Foolish Games \" / \" You Were Meant for Me \"',\n",
    "  'url': ['/wiki/Jewel_(singer)']}\n",
    "```"
   ]
  },
  {
   "cell_type": "markdown",
   "metadata": {},
   "source": [
    "And some singles don't have a song URL:\n",
    "\n",
    "```\n",
    "{'band_singer': [u'Nu Flavor'],\n",
    "  'ranking': 91,\n",
    "  'song': [u'Heaven'],\n",
    "  'songurl': [None],\n",
    "  'titletext': u'\"Heaven\"',\n",
    "  'url': [u'/wiki/Nu_Flavor']}\n",
    "```"
   ]
  },
  {
   "cell_type": "markdown",
   "metadata": {},
   "source": [
    "Thus there are some issues this function must handle:\n",
    "\n",
    "1. There can be more than one  `band_singer` as can be seen above (sometimes with a comma, sometimes with \"featuring\" in between). The best way to parse these is to look for the urls.\n",
    "2. There can be two songs in a single, because of the way the industry works: there are two-sided singles. See https://en.wikipedia.org/wiki/Billboard_Year-End_Hot_100_singles_of_1997 for an example. You can find other examples in 1998 and 1999.\n",
    "3. The `titletext` is the contents of the table cell, and retains the quotes that Wikipedia puts on the single.\n",
    "4. If no song anchor is found (see the 24th song in the above url), assume there is one song in the single, set `songurl` to [`None`] and the song name to the contents of the table cell with the quotes stripped (ie `song` is a one-element list with this the `titletext` stripped of its quotes)."
   ]
  },
  {
   "cell_type": "markdown",
   "metadata": {},
   "source": [
    "As a check, we can do this for 1997. We'll print the first 5 outputs: `parse_year(1997, yearstext)[:5]`"
   ]
  },
  {
   "cell_type": "markdown",
   "metadata": {},
   "source": [
    "This should give the following. Notice that the year 1997 exercises the edge cases we talked about earlier."
   ]
  },
  {
   "cell_type": "markdown",
   "metadata": {},
   "source": [
    "```\n",
    "[{'band_singer': ['Elton John'],\n",
    "  'ranking': 1,\n",
    "  'song': ['Something About the Way You Look Tonight',\n",
    "   'Candle in the Wind 1997'],\n",
    "  'songurl': ['/wiki/Something_About_the_Way_You_Look_Tonight',\n",
    "   '/wiki/Candle_in_the_Wind_1997'],\n",
    "  'titletext': '\" Something About the Way You Look Tonight \" / \" Candle in the Wind 1997 \"',\n",
    "  'url': ['/wiki/Elton_John']},\n",
    " {'band_singer': ['Jewel'],\n",
    "  'ranking': 2,\n",
    "  'song': ['Foolish Games', 'You Were Meant for Me'],\n",
    "  'songurl': ['/wiki/Foolish_Games',\n",
    "   '/wiki/You_Were_Meant_for_Me_(Jewel_song)'],\n",
    "  'titletext': '\" Foolish Games \" / \" You Were Meant for Me \"',\n",
    "  'url': ['/wiki/Jewel_(singer)']},\n",
    " {'band_singer': ['Puff Daddy', 'Faith Evans', '112'],\n",
    "  'ranking': 3,\n",
    "  'song': [\"I'll Be Missing You\"],\n",
    "  'songurl': ['/wiki/I%27ll_Be_Missing_You'],\n",
    "  'titletext': '\" I\\'ll Be Missing You \"',\n",
    "  'url': ['/wiki/Sean_Combs', '/wiki/Faith_Evans', '/wiki/112_(band)']},\n",
    " {'band_singer': ['Toni Braxton'],\n",
    "  'ranking': 4,\n",
    "  'song': ['Un-Break My Heart'],\n",
    "  'songurl': ['/wiki/Un-Break_My_Heart'],\n",
    "  'titletext': '\" Un-Break My Heart \"',\n",
    "  'url': ['/wiki/Toni_Braxton']},\n",
    " {'band_singer': ['Puff Daddy', 'Mase'],\n",
    "  'ranking': 5,\n",
    "  'song': [\"Can't Nobody Hold Me Down\"],\n",
    "  'songurl': ['/wiki/Can%27t_Nobody_Hold_Me_Down'],\n",
    "  'titletext': '\" Can\\'t Nobody Hold Me Down \"',\n",
    "  'url': ['/wiki/Sean_Combs', '/wiki/Mase']}]\n",
    "```"
   ]
  },
  {
   "cell_type": "markdown",
   "metadata": {},
   "source": [
    "#### Save a json file of information from the scraped files"
   ]
  },
  {
   "cell_type": "markdown",
   "metadata": {},
   "source": [
    "We do not want to lose all this work, so let's save the last data structure we created to disk. That way if you need to re-run from here, you don't need to redo all these requests and parsing. \n",
    "\n",
    "DO NOT RERUN THE HTTP REQUESTS TO WIKIPEDIA WHEN SUBMITTING.\n",
    "\n",
    "*We **DO NOT** need to see these JSON files in your submission!*"
   ]
  },
  {
   "cell_type": "code",
   "execution_count": 81,
   "metadata": {},
   "outputs": [
    {
     "name": "stdout",
     "output_type": "stream",
     "text": [
      "https://en.wikipedia.org/wiki/Billboard_Year-End_Hot_100_singles_of_1992\n",
      "https://en.wikipedia.org/wiki/Billboard_Year-End_Hot_100_singles_of_1993\n",
      "https://en.wikipedia.org/wiki/Billboard_Year-End_Hot_100_singles_of_1994\n",
      "https://en.wikipedia.org/wiki/Billboard_Year-End_Hot_100_singles_of_1995\n",
      "https://en.wikipedia.org/wiki/Billboard_Year-End_Hot_100_singles_of_1996\n",
      "https://en.wikipedia.org/wiki/Billboard_Year-End_Hot_100_singles_of_1997\n",
      "https://en.wikipedia.org/wiki/Billboard_Year-End_Hot_100_singles_of_1998\n",
      "https://en.wikipedia.org/wiki/Billboard_Year-End_Hot_100_singles_of_1999\n",
      "https://en.wikipedia.org/wiki/Billboard_Year-End_Hot_100_singles_of_2000\n",
      "https://en.wikipedia.org/wiki/Billboard_Year-End_Hot_100_singles_of_2001\n",
      "https://en.wikipedia.org/wiki/Billboard_Year-End_Hot_100_singles_of_2002\n",
      "https://en.wikipedia.org/wiki/Billboard_Year-End_Hot_100_singles_of_2003\n",
      "https://en.wikipedia.org/wiki/Billboard_Year-End_Hot_100_singles_of_2004\n",
      "https://en.wikipedia.org/wiki/Billboard_Year-End_Hot_100_singles_of_2005\n",
      "https://en.wikipedia.org/wiki/Billboard_Year-End_Hot_100_singles_of_2006\n",
      "https://en.wikipedia.org/wiki/Billboard_Year-End_Hot_100_singles_of_2007\n",
      "https://en.wikipedia.org/wiki/Billboard_Year-End_Hot_100_singles_of_2008\n",
      "https://en.wikipedia.org/wiki/Billboard_Year-End_Hot_100_singles_of_2009\n",
      "https://en.wikipedia.org/wiki/Billboard_Year-End_Hot_100_singles_of_2010\n",
      "https://en.wikipedia.org/wiki/Billboard_Year-End_Hot_100_singles_of_2011\n",
      "https://en.wikipedia.org/wiki/Billboard_Year-End_Hot_100_singles_of_2012\n",
      "https://en.wikipedia.org/wiki/Billboard_Year-End_Hot_100_singles_of_2013\n",
      "https://en.wikipedia.org/wiki/Billboard_Year-End_Hot_100_singles_of_2014\n",
      "https://en.wikipedia.org/wiki/Billboard_Year-End_Hot_100_singles_of_2015\n",
      "https://en.wikipedia.org/wiki/Billboard_Year-End_Hot_100_singles_of_2016\n",
      "https://en.wikipedia.org/wiki/Billboard_Year-End_Hot_100_singles_of_2017\n",
      "https://en.wikipedia.org/wiki/Billboard_Year-End_Hot_100_singles_of_2018\n"
     ]
    }
   ],
   "source": [
    "import json\n",
    "years=range(1992, 2019)\n",
    "yearstext = {}\n",
    "yearinfo = {y:parse_year(y, yearstext) for y in years}"
   ]
  },
  {
   "cell_type": "code",
   "execution_count": 82,
   "metadata": {
    "scrolled": false
   },
   "outputs": [],
   "source": [
    "# DO NOT RERUN THIS CELL WHEN SUBMITTING\n",
    "fd = open(r\"C:\\Users\\ashwi\\Desktop\\Ashwin\\Harvard_CS109/yearinfo.json\",\"w\")\n",
    "json.dump(yearinfo, fd)\n",
    "fd.close()\n",
    "del yearinfo"
   ]
  },
  {
   "cell_type": "markdown",
   "metadata": {},
   "source": [
    "Now let's reload our JSON file into the yearinfo variable, just to be sure everything is working."
   ]
  },
  {
   "cell_type": "code",
   "execution_count": 83,
   "metadata": {
    "scrolled": true
   },
   "outputs": [],
   "source": [
    "# RERUN WHEN SUBMITTING\n",
    "# Another way to deal with files. Has the advantage of closing the file for you.\n",
    "with open(r\"C:\\Users\\ashwi\\Desktop\\Ashwin\\Harvard_CS109/yearinfo.json\", \"r\") as fd:\n",
    "    yearinfo = json.load(fd)"
   ]
  },
  {
   "cell_type": "markdown",
   "metadata": {},
   "source": [
    "#### 1.4 Construct a year-song-singer dataframe from the yearly information"
   ]
  },
  {
   "cell_type": "markdown",
   "metadata": {},
   "source": [
    "Let's construct a dataframe `flatframe` from the `yearinfo`. The frame should be similar to the frame below.  Each row of the frame represents a song, and carries with it the chief properties of year, song, singer, and ranking.\n",
    "\n",
    "![](https://raw.githubusercontent.com/cs109/a-2017/master/hwassets/images/HW1SC1.png)"
   ]
  },
  {
   "cell_type": "markdown",
   "metadata": {},
   "source": [
    "To construct the dataframe, we'll need to iterate over the years and the singles per year. Notice how, above, the dataframe is ordered by ranking and then year. While the exact order is up to you, note that you will have to come up with a scheme to order the information.\n",
    "\n",
    "Check that the dataframe has sensible data types. You will also likely find that the year field has become an \"object\" (Pandas treats strings as generic objects): this is due to the conversion to and back from JSON. Such conversions need special care. Fix any data type issues with `flatframe`. (See Pandas [astype](http://pandas.pydata.org/pandas-docs/stable/generated/pandas.DataFrame.astype.html) function.) \n",
    "We will use this `flatframe` in the next question. \n",
    "\n",
    "(As an aside, we used the name `flatframe` to indicate that this dataframe is flattened from a hierarchical dictionary structure with the keys being the years.)"
   ]
  },
  {
   "cell_type": "code",
   "execution_count": 137,
   "metadata": {},
   "outputs": [
    {
     "data": {
      "text/html": [
       "<div>\n",
       "<style scoped>\n",
       "    .dataframe tbody tr th:only-of-type {\n",
       "        vertical-align: middle;\n",
       "    }\n",
       "\n",
       "    .dataframe tbody tr th {\n",
       "        vertical-align: top;\n",
       "    }\n",
       "\n",
       "    .dataframe thead th {\n",
       "        text-align: right;\n",
       "    }\n",
       "</style>\n",
       "<table border=\"1\" class=\"dataframe\">\n",
       "  <thead>\n",
       "    <tr style=\"text-align: right;\">\n",
       "      <th></th>\n",
       "      <th>year</th>\n",
       "      <th>band_singer</th>\n",
       "      <th>ranking</th>\n",
       "      <th>song</th>\n",
       "      <th>songurl</th>\n",
       "      <th>url</th>\n",
       "    </tr>\n",
       "  </thead>\n",
       "  <tbody>\n",
       "    <tr>\n",
       "      <th>0</th>\n",
       "      <td>1992</td>\n",
       "      <td>Boyz II Men</td>\n",
       "      <td>1</td>\n",
       "      <td>End of the Road</td>\n",
       "      <td>/wiki/End_of_the_Road</td>\n",
       "      <td>/wiki/Boyz_II_Men</td>\n",
       "    </tr>\n",
       "    <tr>\n",
       "      <th>1</th>\n",
       "      <td>1993</td>\n",
       "      <td>Whitney Houston</td>\n",
       "      <td>1</td>\n",
       "      <td>I Will Always Love You</td>\n",
       "      <td>/wiki/I_Will_Always_Love_You#Whitney_Houston_v...</td>\n",
       "      <td>/wiki/Whitney_Houston</td>\n",
       "    </tr>\n",
       "    <tr>\n",
       "      <th>2</th>\n",
       "      <td>1994</td>\n",
       "      <td>Ace of Base</td>\n",
       "      <td>1</td>\n",
       "      <td>The Sign</td>\n",
       "      <td>/wiki/The_Sign_(song)</td>\n",
       "      <td>/wiki/Ace_of_Base</td>\n",
       "    </tr>\n",
       "    <tr>\n",
       "      <th>3</th>\n",
       "      <td>1995</td>\n",
       "      <td>Coolio,L.V.</td>\n",
       "      <td>1</td>\n",
       "      <td>Gangsta's Paradise</td>\n",
       "      <td>/wiki/Gangsta%27s_Paradise</td>\n",
       "      <td>/wiki/Coolio,/wiki/L.V._(singer)</td>\n",
       "    </tr>\n",
       "    <tr>\n",
       "      <th>4</th>\n",
       "      <td>1996</td>\n",
       "      <td>Los del Río</td>\n",
       "      <td>1</td>\n",
       "      <td>Macarena</td>\n",
       "      <td>/wiki/Macarena_(song)</td>\n",
       "      <td>/wiki/Los_del_R%C3%ADo</td>\n",
       "    </tr>\n",
       "    <tr>\n",
       "      <th>5</th>\n",
       "      <td>1997</td>\n",
       "      <td>Elton John</td>\n",
       "      <td>1</td>\n",
       "      <td>Something About the Way You Look Tonight,Candl...</td>\n",
       "      <td>/wiki/Something_About_the_Way_You_Look_Tonight...</td>\n",
       "      <td>/wiki/Elton_John</td>\n",
       "    </tr>\n",
       "    <tr>\n",
       "      <th>6</th>\n",
       "      <td>1998</td>\n",
       "      <td>Next</td>\n",
       "      <td>1</td>\n",
       "      <td>Too Close</td>\n",
       "      <td>/wiki/Too_Close_(Next_song)</td>\n",
       "      <td>/wiki/Next_(group)</td>\n",
       "    </tr>\n",
       "    <tr>\n",
       "      <th>7</th>\n",
       "      <td>1999</td>\n",
       "      <td>Cher</td>\n",
       "      <td>1</td>\n",
       "      <td>Believe</td>\n",
       "      <td>/wiki/Believe_(Cher_song)</td>\n",
       "      <td>/wiki/Cher</td>\n",
       "    </tr>\n",
       "    <tr>\n",
       "      <th>8</th>\n",
       "      <td>2000</td>\n",
       "      <td>Faith Hill</td>\n",
       "      <td>1</td>\n",
       "      <td>Breathe</td>\n",
       "      <td>/wiki/Breathe_(Faith_Hill_song)</td>\n",
       "      <td>/wiki/Faith_Hill</td>\n",
       "    </tr>\n",
       "    <tr>\n",
       "      <th>9</th>\n",
       "      <td>2001</td>\n",
       "      <td>Lifehouse</td>\n",
       "      <td>1</td>\n",
       "      <td>Hanging by a Moment</td>\n",
       "      <td>/wiki/Hanging_by_a_Moment</td>\n",
       "      <td>/wiki/Lifehouse_(band)</td>\n",
       "    </tr>\n",
       "    <tr>\n",
       "      <th>10</th>\n",
       "      <td>2002</td>\n",
       "      <td>Nickelback</td>\n",
       "      <td>1</td>\n",
       "      <td>How You Remind Me</td>\n",
       "      <td>/wiki/How_You_Remind_Me</td>\n",
       "      <td>/wiki/Nickelback</td>\n",
       "    </tr>\n",
       "    <tr>\n",
       "      <th>11</th>\n",
       "      <td>2003</td>\n",
       "      <td>50 Cent</td>\n",
       "      <td>1</td>\n",
       "      <td>In da Club</td>\n",
       "      <td>/wiki/In_da_Club</td>\n",
       "      <td>/wiki/50_Cent</td>\n",
       "    </tr>\n",
       "    <tr>\n",
       "      <th>12</th>\n",
       "      <td>2004</td>\n",
       "      <td>Usher,Lil Jon,Ludacris</td>\n",
       "      <td>1</td>\n",
       "      <td>Yeah!</td>\n",
       "      <td>/wiki/Yeah!_(Usher_song)</td>\n",
       "      <td>/wiki/Usher_(musician),/wiki/Lil_Jon,/wiki/Lud...</td>\n",
       "    </tr>\n",
       "    <tr>\n",
       "      <th>13</th>\n",
       "      <td>2005</td>\n",
       "      <td>Mariah Carey</td>\n",
       "      <td>1</td>\n",
       "      <td>We Belong Together</td>\n",
       "      <td>/wiki/We_Belong_Together_(Mariah_Carey_song)</td>\n",
       "      <td>/wiki/Mariah_Carey</td>\n",
       "    </tr>\n",
       "    <tr>\n",
       "      <th>14</th>\n",
       "      <td>2006</td>\n",
       "      <td>Daniel Powter</td>\n",
       "      <td>1</td>\n",
       "      <td>Bad Day</td>\n",
       "      <td>/wiki/Bad_Day_(Daniel_Powter_song)</td>\n",
       "      <td>/wiki/Daniel_Powter</td>\n",
       "    </tr>\n",
       "    <tr>\n",
       "      <th>15</th>\n",
       "      <td>2007</td>\n",
       "      <td>Beyoncé</td>\n",
       "      <td>1</td>\n",
       "      <td>Irreplaceable</td>\n",
       "      <td>/wiki/Irreplaceable</td>\n",
       "      <td>/wiki/Beyonc%C3%A9</td>\n",
       "    </tr>\n",
       "    <tr>\n",
       "      <th>16</th>\n",
       "      <td>2008</td>\n",
       "      <td>Flo Rida,T-Pain</td>\n",
       "      <td>1</td>\n",
       "      <td>Low</td>\n",
       "      <td>/wiki/Low_(Flo_Rida_song)</td>\n",
       "      <td>/wiki/Flo_Rida,/wiki/T-Pain</td>\n",
       "    </tr>\n",
       "    <tr>\n",
       "      <th>17</th>\n",
       "      <td>2009</td>\n",
       "      <td>The Black Eyed Peas</td>\n",
       "      <td>1</td>\n",
       "      <td>Boom Boom Pow</td>\n",
       "      <td>/wiki/Boom_Boom_Pow</td>\n",
       "      <td>/wiki/The_Black_Eyed_Peas</td>\n",
       "    </tr>\n",
       "    <tr>\n",
       "      <th>18</th>\n",
       "      <td>2010</td>\n",
       "      <td>Kesha</td>\n",
       "      <td>1</td>\n",
       "      <td>Tik Tok</td>\n",
       "      <td>/wiki/Tik_Tok</td>\n",
       "      <td>/wiki/Kesha</td>\n",
       "    </tr>\n",
       "    <tr>\n",
       "      <th>19</th>\n",
       "      <td>2011</td>\n",
       "      <td>Adele</td>\n",
       "      <td>1</td>\n",
       "      <td>Rolling in the Deep</td>\n",
       "      <td>/wiki/Rolling_in_the_Deep</td>\n",
       "      <td>/wiki/Adele</td>\n",
       "    </tr>\n",
       "    <tr>\n",
       "      <th>20</th>\n",
       "      <td>2012</td>\n",
       "      <td>Gotye,Kimbra</td>\n",
       "      <td>1</td>\n",
       "      <td>Somebody That I Used to Know</td>\n",
       "      <td>/wiki/Somebody_That_I_Used_to_Know</td>\n",
       "      <td>/wiki/Gotye,/wiki/Kimbra</td>\n",
       "    </tr>\n",
       "    <tr>\n",
       "      <th>21</th>\n",
       "      <td>2013</td>\n",
       "      <td>Macklemore &amp; Ryan Lewis,Wanz</td>\n",
       "      <td>1</td>\n",
       "      <td>Thrift Shop</td>\n",
       "      <td>/wiki/Thrift_Shop</td>\n",
       "      <td>/wiki/Macklemore_%26_Ryan_Lewis,/wiki/Wanz</td>\n",
       "    </tr>\n",
       "    <tr>\n",
       "      <th>22</th>\n",
       "      <td>2014</td>\n",
       "      <td>Pharrell Williams</td>\n",
       "      <td>1</td>\n",
       "      <td>Happy</td>\n",
       "      <td>/wiki/Happy_(Pharrell_Williams_song)</td>\n",
       "      <td>/wiki/Pharrell_Williams</td>\n",
       "    </tr>\n",
       "    <tr>\n",
       "      <th>23</th>\n",
       "      <td>2015</td>\n",
       "      <td>Mark Ronson,Bruno Mars</td>\n",
       "      <td>1</td>\n",
       "      <td>Uptown Funk</td>\n",
       "      <td>/wiki/Uptown_Funk</td>\n",
       "      <td>/wiki/Mark_Ronson,/wiki/Bruno_Mars</td>\n",
       "    </tr>\n",
       "    <tr>\n",
       "      <th>24</th>\n",
       "      <td>2016</td>\n",
       "      <td>Justin Bieber</td>\n",
       "      <td>1</td>\n",
       "      <td>Love Yourself</td>\n",
       "      <td>/wiki/Love_Yourself</td>\n",
       "      <td>/wiki/Justin_Bieber</td>\n",
       "    </tr>\n",
       "    <tr>\n",
       "      <th>25</th>\n",
       "      <td>2017</td>\n",
       "      <td>Ed Sheeran</td>\n",
       "      <td>1</td>\n",
       "      <td>Shape of You</td>\n",
       "      <td>/wiki/Shape_of_You</td>\n",
       "      <td>/wiki/Ed_Sheeran</td>\n",
       "    </tr>\n",
       "    <tr>\n",
       "      <th>26</th>\n",
       "      <td>2018</td>\n",
       "      <td>Drake</td>\n",
       "      <td>1</td>\n",
       "      <td>God's Plan</td>\n",
       "      <td>/wiki/God%27s_Plan_(song)</td>\n",
       "      <td>/wiki/Drake_(musician)</td>\n",
       "    </tr>\n",
       "  </tbody>\n",
       "</table>\n",
       "</div>"
      ],
      "text/plain": [
       "    year                   band_singer  ranking                                               song                                            songurl                                                url\n",
       "0   1992                   Boyz II Men        1                                    End of the Road                              /wiki/End_of_the_Road                                  /wiki/Boyz_II_Men\n",
       "1   1993               Whitney Houston        1                             I Will Always Love You  /wiki/I_Will_Always_Love_You#Whitney_Houston_v...                              /wiki/Whitney_Houston\n",
       "2   1994                   Ace of Base        1                                           The Sign                              /wiki/The_Sign_(song)                                  /wiki/Ace_of_Base\n",
       "3   1995                   Coolio,L.V.        1                                 Gangsta's Paradise                         /wiki/Gangsta%27s_Paradise                   /wiki/Coolio,/wiki/L.V._(singer)\n",
       "4   1996                   Los del Río        1                                           Macarena                              /wiki/Macarena_(song)                             /wiki/Los_del_R%C3%ADo\n",
       "5   1997                    Elton John        1  Something About the Way You Look Tonight,Candl...  /wiki/Something_About_the_Way_You_Look_Tonight...                                   /wiki/Elton_John\n",
       "6   1998                          Next        1                                          Too Close                        /wiki/Too_Close_(Next_song)                                 /wiki/Next_(group)\n",
       "7   1999                          Cher        1                                            Believe                          /wiki/Believe_(Cher_song)                                         /wiki/Cher\n",
       "8   2000                    Faith Hill        1                                            Breathe                    /wiki/Breathe_(Faith_Hill_song)                                   /wiki/Faith_Hill\n",
       "9   2001                     Lifehouse        1                                Hanging by a Moment                          /wiki/Hanging_by_a_Moment                             /wiki/Lifehouse_(band)\n",
       "10  2002                    Nickelback        1                                  How You Remind Me                            /wiki/How_You_Remind_Me                                   /wiki/Nickelback\n",
       "11  2003                       50 Cent        1                                         In da Club                                   /wiki/In_da_Club                                      /wiki/50_Cent\n",
       "12  2004        Usher,Lil Jon,Ludacris        1                                              Yeah!                           /wiki/Yeah!_(Usher_song)  /wiki/Usher_(musician),/wiki/Lil_Jon,/wiki/Lud...\n",
       "13  2005                  Mariah Carey        1                                 We Belong Together       /wiki/We_Belong_Together_(Mariah_Carey_song)                                 /wiki/Mariah_Carey\n",
       "14  2006                 Daniel Powter        1                                            Bad Day                 /wiki/Bad_Day_(Daniel_Powter_song)                                /wiki/Daniel_Powter\n",
       "15  2007                       Beyoncé        1                                      Irreplaceable                                /wiki/Irreplaceable                                 /wiki/Beyonc%C3%A9\n",
       "16  2008               Flo Rida,T-Pain        1                                                Low                          /wiki/Low_(Flo_Rida_song)                        /wiki/Flo_Rida,/wiki/T-Pain\n",
       "17  2009           The Black Eyed Peas        1                                      Boom Boom Pow                                /wiki/Boom_Boom_Pow                          /wiki/The_Black_Eyed_Peas\n",
       "18  2010                         Kesha        1                                            Tik Tok                                      /wiki/Tik_Tok                                        /wiki/Kesha\n",
       "19  2011                         Adele        1                                Rolling in the Deep                          /wiki/Rolling_in_the_Deep                                        /wiki/Adele\n",
       "20  2012                  Gotye,Kimbra        1                       Somebody That I Used to Know                 /wiki/Somebody_That_I_Used_to_Know                           /wiki/Gotye,/wiki/Kimbra\n",
       "21  2013  Macklemore & Ryan Lewis,Wanz        1                                        Thrift Shop                                  /wiki/Thrift_Shop         /wiki/Macklemore_%26_Ryan_Lewis,/wiki/Wanz\n",
       "22  2014             Pharrell Williams        1                                              Happy               /wiki/Happy_(Pharrell_Williams_song)                            /wiki/Pharrell_Williams\n",
       "23  2015        Mark Ronson,Bruno Mars        1                                        Uptown Funk                                  /wiki/Uptown_Funk                 /wiki/Mark_Ronson,/wiki/Bruno_Mars\n",
       "24  2016                 Justin Bieber        1                                      Love Yourself                                /wiki/Love_Yourself                                /wiki/Justin_Bieber\n",
       "25  2017                    Ed Sheeran        1                                       Shape of You                                 /wiki/Shape_of_You                                   /wiki/Ed_Sheeran\n",
       "26  2018                         Drake        1                                         God's Plan                          /wiki/God%27s_Plan_(song)                             /wiki/Drake_(musician)"
      ]
     },
     "execution_count": 137,
     "metadata": {},
     "output_type": "execute_result"
    }
   ],
   "source": [
    "f_dic = {'year':[],\n",
    "        'band_singer':[],\n",
    "        'ranking':[],\n",
    "        'song':[],\n",
    "        'songurl':[],\n",
    "        'url':[]\n",
    "        }\n",
    "for i in yearinfo.keys():\n",
    "    f_dic['year'].append(i)\n",
    "    f_dic['band_singer'].append(\",\".join(str(x) for x in yearinfo[i][0]['band_singer']))\n",
    "    f_dic['ranking'].append(yearinfo[i][0]['ranking'][0].strip('\\n'))\n",
    "    f_dic['song'].append(\",\".join(str(x) for x in yearinfo[i][0]['song']))\n",
    "    f_dic['songurl'].append(\",\".join(str(x) for x in yearinfo[i][0]['songurl']))\n",
    "    f_dic['url'].append(\",\".join(str(x) for x in yearinfo[i][0]['url']))\n",
    "flatframe = pd.DataFrame(f_dic)\n",
    "flatframe.year = pd.to_numeric(flatframe.year)\n",
    "flatframe.ranking = pd.to_numeric(flatframe.ranking)\n",
    "flatframe.dtypes\n",
    "flatframe"
   ]
  },
  {
   "cell_type": "markdown",
   "metadata": {},
   "source": [
    "### Who are the highest quality singers?"
   ]
  },
  {
   "cell_type": "markdown",
   "metadata": {},
   "source": [
    "Here we show the highest quality singers and plot them on a bar chart.\n",
    "\n",
    "#### 1.5 Find highest quality singers according to how prolific they are\n",
    "\n",
    "What do we mean by highest quality? This is of course open to interpretation, but let's define \"highest quality\" here as the number of times a singer appears in the top 100 over this time period. If a singer appears twice in a year (for different songs), this is counted as two appearances, not one. \n",
    "\n",
    "Make a bar-plot of the most prolific singers. Singers on this chart should have appeared at-least more than 15 times. (HINT: look at the docs for the pandas method `value_counts`.)\n"
   ]
  },
  {
   "cell_type": "code",
   "execution_count": 207,
   "metadata": {},
   "outputs": [
    {
     "data": {
      "text/plain": [
       "<BarContainer object of 17 artists>"
      ]
     },
     "execution_count": 207,
     "metadata": {},
     "output_type": "execute_result"
    },
    {
     "data": {
      "image/png": "[encoded data removed]",
      "text/plain": [
       "<Figure size 792x792 with 1 Axes>"
      ]
     },
     "metadata": {
      "needs_background": "light"
     },
     "output_type": "display_data"
    }
   ],
   "source": [
    "dic = {'band_singer':[],'count':[]}\n",
    "for i in flatframe.band_singer:\n",
    "    if ',' in i:\n",
    "        a = i.split(',')\n",
    "        for x in a:\n",
    "            dic['band_singer'].append(x)\n",
    "            dic['count'].append(str(yearinfo).count(x))\n",
    "    else:\n",
    "        dic['band_singer'].append(i)\n",
    "        dic['count'].append(str(yearinfo).count(i))\n",
    "        \n",
    "high_pual = pd.DataFrame(dic)\n",
    "high_pual['count'] = pd.to_numeric(high_pual['count'])\n",
    "high_quality_singers = high_pual[high_pual['count'] >= 15]\n",
    "plt.figure('figure',figsize=(11,11))\n",
    "plt.barh(high_quality_singers.band_singer,high_quality_singers['count'])"
   ]
  },
  {
   "cell_type": "markdown",
   "metadata": {},
   "source": [
    "#### 1.6 What if we used a different metric?"
   ]
  },
  {
   "cell_type": "markdown",
   "metadata": {},
   "source": [
    "What we would like to capture is this: a singer should to be scored higher if the singer appears higher in the rankings. So we'd say that a singer who appeared once at a higher and once at a lower ranking is a \"higher quality\" singer than one who appeared twice at a lower ranking. \n",
    "\n",
    "To do this, group all of a singers songs together and assign each song a score `101 - ranking`. Order the singers by their total score and make a bar chart for the top 20.\n"
   ]
  },
  {
   "cell_type": "markdown",
   "metadata": {},
   "source": [
    "#### 1.7 Do you notice any major differences when you change the metric?\n",
    "\n",
    "How have the singers at the top shifted places? Why do you think this happens?"
   ]
  },
  {
   "cell_type": "markdown",
   "metadata": {},
   "source": [
    "## Q2. Scraping and Constructing: Information about Artists, Bands and Genres from Wikipedia"
   ]
  },
  {
   "cell_type": "markdown",
   "metadata": {},
   "source": [
    "Our next job is to use those band/singer urls we collected under `flatframe.url` and get information about singers and/or bands."
   ]
  },
  {
   "cell_type": "markdown",
   "metadata": {},
   "source": [
    "### Scrape information about artists from wikipedia"
   ]
  },
  {
   "cell_type": "markdown",
   "metadata": {},
   "source": [
    "We wish to fetch information about the singers or groups for all the winning songs in a list of years.\n",
    "\n",
    "Here we show a function that fetches information about a singer or group from their url on wikipedia. We create a cache object `urlcache` that will avoid redundant HTTP requests (e.g. an artist might have multiple singles on a single year, or be on the list over a span of years). Once we have fetched information about an artist, we don't need to do it again. The caching also helps if the network goes down, or the target website is having some problems. You simply need to run the `get_page` function below again, and the `urlcache` dictionary will continue to be filled.\n",
    "\n",
    "If the request gets an HTTP return code different from 200, (such as a 404 not found or 500 Internal Server Error) the cells for that URL will have a value of 1; and if the request completely fails (e.g. no network connection) the cell will have a value of 2. This will allow you to analyse the failed requests.\n",
    "\n",
    "Notice that we have wrapped the call in whats called _an exception block_. We try to make the request. If it fails entirely, or returns a HTTP code thats not 200, we set the status to 2 and 1 respectively."
   ]
  },
  {
   "cell_type": "code",
   "execution_count": 9,
   "metadata": {
    "collapsed": true,
    "scrolled": true
   },
   "outputs": [],
   "source": [
    "urlcache={}\n"
   ]
  },
  {
   "cell_type": "code",
   "execution_count": 10,
   "metadata": {
    "collapsed": true,
    "scrolled": true
   },
   "outputs": [],
   "source": [
    "def get_page(url):\n",
    "    # Check if URL has already been visited.\n",
    "    if (url not in urlcache) or (urlcache[url]==1) or (urlcache[url]==2):\n",
    "        time.sleep(1)\n",
    "        # try/except blocks are used whenever the code could generate an exception (e.g. division by zero).\n",
    "        # In this case we don't know if the page really exists, or even if it does, if we'll be able to reach it.\n",
    "        try:\n",
    "            r = requests.get(\"http://en.wikipedia.org%s\" % url)\n",
    "\n",
    "            if r.status_code == 200:\n",
    "                urlcache[url] = r.text\n",
    "            else:\n",
    "                urlcache[url] = 1\n",
    "        except:\n",
    "            urlcache[url] = 2\n",
    "    return urlcache[url]\n"
   ]
  },
  {
   "cell_type": "markdown",
   "metadata": {},
   "source": [
    "We sort the `flatframe` by year, ascending, first. Think why."
   ]
  },
  {
   "cell_type": "code",
   "execution_count": null,
   "metadata": {
    "collapsed": true,
    "scrolled": true
   },
   "outputs": [],
   "source": [
    "flatframe=flatframe.sort_values('year')\n",
    "flatframe.head()"
   ]
  },
  {
   "cell_type": "markdown",
   "metadata": {},
   "source": [
    "#### Pulling and saving the data"
   ]
  },
  {
   "cell_type": "code",
   "execution_count": null,
   "metadata": {
    "collapsed": true,
    "scrolled": true
   },
   "outputs": [],
   "source": [
    "# DO NOT RERUN THIS CELL WHEN SUBMITTING\n",
    "# Here we are populating the url cache\n",
    "# subsequent calls to this cell should be very fast, since Python won't\n",
    "# need to fetch the page from the web server.\n",
    "# NOTE this function will take quite some time to run (about 30 mins for me), since we sleep 1 second before\n",
    "# making a request. If you run it again it will be almost instantaneous, save requests that might have failed\n",
    "# (you will need to run it again if requests fail..see cell below for how to test this)\n",
    "flatframe[\"url\"].apply(get_page)"
   ]
  },
  {
   "cell_type": "markdown",
   "metadata": {},
   "source": [
    "You may have to run this function again and again, in case there were network problems. Note that, because there is a \"global\" cache, it will take less time each time you run it. Also note that this function is designed to be run again and again: it attempts to make sure that there are no unresolved pages remaining. Let us make sure of this: *the sum below should be 0, and the boolean True.*"
   ]
  },
  {
   "cell_type": "code",
   "execution_count": null,
   "metadata": {
    "collapsed": true,
    "scrolled": true
   },
   "outputs": [],
   "source": [
    "# DO NOT RERUN THIS CELL WHEN SUBMITTING\n",
    "print(\"Number of bad requests:\",np.sum([(urlcache[k]==1) or (urlcache[k]==2) for k in urlcache])) # no one or 0's)\n",
    "print(\"Did we get all urls?\", len(flatframe.url.unique())==len(urlcache)) # we got all of the urls"
   ]
  },
  {
   "cell_type": "markdown",
   "metadata": {},
   "source": [
    "Let's save the `urlcache` to disk, just in case we need it again."
   ]
  },
  {
   "cell_type": "code",
   "execution_count": null,
   "metadata": {
    "collapsed": true
   },
   "outputs": [],
   "source": [
    "# DO NOT RERUN THIS CELL WHEN SUBMITTING\n",
    "with open(\"data/artistinfo.json\",\"w\") as fd:\n",
    "    json.dump(urlcache, fd)\n",
    "del urlcache"
   ]
  },
  {
   "cell_type": "code",
   "execution_count": null,
   "metadata": {
    "collapsed": true,
    "scrolled": false
   },
   "outputs": [],
   "source": [
    "# RERUN WHEN SUBMITTING\n",
    "with open(\"data/artistinfo.json\") as json_file:\n",
    "    urlcache = json.load(json_file)"
   ]
  },
  {
   "cell_type": "markdown",
   "metadata": {},
   "source": [
    "#### 2.1 Extract information about singers and bands"
   ]
  },
  {
   "cell_type": "markdown",
   "metadata": {},
   "source": [
    "From each page we collected about a singer or a band, extract the following information:\n",
    "\n",
    "1. If the page has the text \"Born\" in the sidebar on the right, extract the element with the class `.bday`. If the page doesn't contain \"Born\", store `False`.  Store either of these into the variable `born`. We want to analyze the artist's age.\n",
    "\n",
    "2. If the text \"Years active\" is found, but no \"born\", assume a band. Store into the variable `ya` the value of the next table cell corresponding to this, or `False` if the text is not found.\n",
    "\n",
    "Put this all into a function `singer_band_info` which takes the singer/band url as argument and returns a dictionary `dict(url=url, born=born, ya=ya)`.\n",
    "\n",
    "The information can be found on the sidebar on each such wikipedia page, as the example here shows:\n",
    "\n",
    "![sandg](https://raw.githubusercontent.com/cs109/a-2017/master/hwassets/images/sandg.png).\n",
    "\n"
   ]
  },
  {
   "cell_type": "markdown",
   "metadata": {},
   "source": [
    "Write the function `singer_band_info` according to the following specification:"
   ]
  },
  {
   "cell_type": "code",
   "execution_count": null,
   "metadata": {
    "collapsed": true
   },
   "outputs": [],
   "source": [
    "\"\"\"\n",
    "Function\n",
    "--------\n",
    "singer_band_info\n",
    "\n",
    "Inputs\n",
    "------\n",
    "url: the url\n",
    "page_text: the text associated with the url\n",
    "   \n",
    "Returns\n",
    "-------\n",
    "A dictionary with the following data:\n",
    "    url: copy the input argument url into this value\n",
    "    born: the artist's birthday\n",
    "    ya: years active variable\n",
    "https://raw.githubusercontent.com/cs109/a-2017/master/hwassets/images/HW1SC3.png\n",
    "Notes\n",
    "-----\n",
    "See description above. Also note that some of the genres urls might require a \n",
    "bit of care and special handling.\n",
    "\"\"\""
   ]
  },
  {
   "cell_type": "markdown",
   "metadata": {},
   "source": [
    "#### 2.2  Merging this information in"
   ]
  },
  {
   "cell_type": "markdown",
   "metadata": {},
   "source": [
    "Iterate over the items in the singer-group dictionary cache `urlcache`, run the above function, and create a dataframe from there with columns `url`, `born`, and `ya`. Merge this dataframe on the `url` key with `flatframe`, creating a rather wide dataframe that we shall call `largedf`. It should look something like this:\n",
    "\n",
    "![](https://raw.githubusercontent.com/cs109/a-2017/master/hwassets/images/HW1SC3.png)\n",
    "\n",
    "Notice how the `born` and `ya` and `url` are repeated every time a different song from a given band is represented in a row."
   ]
  },
  {
   "cell_type": "markdown",
   "metadata": {},
   "source": [
    "#### 2.3 What is the age at which singers achieve their top ranking?"
   ]
  },
  {
   "cell_type": "markdown",
   "metadata": {},
   "source": [
    "Plot a histogram of the age at which singers achieve their top ranking. What conclusions can you draw from this distribution of ages?\n",
    "\n",
    "*HINT: You will need to do some manipulation of the `born` column, and find the song for which a band or an artist achieves their top ranking. You will then need to put these rows together into another dataframe or array to make the plot.*"
   ]
  },
  {
   "cell_type": "markdown",
   "metadata": {},
   "source": [
    "#### 2.4 At what year since inception do bands reach their top rankings?"
   ]
  },
  {
   "cell_type": "markdown",
   "metadata": {},
   "source": [
    "Make a similar calculation to plot a histogram of the years since inception at which bands reach their top ranking. What conclusions can you draw?"
   ]
  }
 ],
 "metadata": {
  "kernelspec": {
   "display_name": "Python 3",
   "language": "python",
   "name": "python3"
  },
  "language_info": {
   "codemirror_mode": {
    "name": "ipython",
    "version": 3
   },
   "file_extension": ".py",
   "mimetype": "text/x-python",
   "name": "python",
   "nbconvert_exporter": "python",
   "pygments_lexer": "ipython3",
   "version": "3.7.0"
  }
 },
 "nbformat": 4,
 "nbformat_minor": 1
}
