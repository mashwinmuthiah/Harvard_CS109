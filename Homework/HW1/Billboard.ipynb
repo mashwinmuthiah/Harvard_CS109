{
 "cells": [
  {
   "cell_type": "markdown",
   "metadata": {},
   "source": [
    "# Billboard Year-End Hot 100 singles \n",
    "### Web Scraping Wikipedia for the Billboard's top 100 singles for the past 50 years from 1969 to 2019"
   ]
  },
  {
   "cell_type": "markdown",
   "metadata": {},
   "source": [
    "<img src=\"https://upload.wikimedia.org/wikipedia/commons/2/2b/Billboard_Hot_100_logo.jpg\">"
   ]
  },
  {
   "cell_type": "markdown",
   "metadata": {},
   "source": [
    "The Billboard Hot 100 is the music industry standard record chart in the United States for songs, published weekly by Billboard magazine. Chart rankings are based on sales (physical and digital), radio play, and online streaming in the United States.\n",
    "\n",
    "The weekly tracking period for sales was initially Monday to Sunday when Nielsen started tracking sales in 1991, but was changed to Friday to Thursday in July 2015. This tracking period also applies to compiling online streaming data. Radio airplay, which, unlike sales figures and streaming, is readily available on a real-time basis, is tracked on a Monday to Sunday cycle (previously Wednesday to Tuesday).A new chart is compiled and officially released to the public by Billboard on Tuesdays.\n",
    "\n",
    "The first number one song of the Billboard Hot 100 was \"Poor Little Fool\" by Ricky Nelson, on August 4, 1958. As of the issue for the week ending on July 20, 2019, the Billboard Hot 100 has had 1,086 different number one entries. The chart's current number-one song is \"Old Town Road\" by Lil Nas X featuring Billy Ray Cyrus.\n",
    "Billboard Magazine puts out a top 100 list of \"singles\" every week. Information from this list, as well as that from music sales, radio, and other sources is used to determine a top-100 \"singles\" of the year list. A single is typically one song, but sometimes can be two songs which are on one \"single\" record.\n"
   ]
  },
  {
   "cell_type": "code",
   "execution_count": 1,
   "metadata": {},
   "outputs": [],
   "source": [
    "%matplotlib inline\n",
    "import pandas as pd\n",
    "import numpy as np\n",
    "import matplotlib.pyplot as plt\n",
    "import time \n",
    "import seaborn as sns\n",
    "sns.set_style(\"whitegrid\")\n",
    "sns.set_context(\"poster\")"
   ]
  },
  {
   "cell_type": "code",
   "execution_count": 2,
   "metadata": {},
   "outputs": [],
   "source": [
    "import requests\n",
    "from bs4 import BeautifulSoup"
   ]
  },
  {
   "cell_type": "code",
   "execution_count": 3,
   "metadata": {},
   "outputs": [],
   "source": [
    "u1970 = \"https://en.wikipedia.org/wiki/Billboard_Year-End_Hot_100_singles_of_1970\" \n",
    "t1970 = requests.get(u1970)"
   ]
  },
  {
   "cell_type": "code",
   "execution_count": 4,
   "metadata": {},
   "outputs": [],
   "source": [
    "soup = BeautifulSoup(t1970.text,\"html.parser\")"
   ]
  },
  {
   "cell_type": "code",
   "execution_count": 5,
   "metadata": {},
   "outputs": [],
   "source": [
    "#soup.prettify"
   ]
  },
  {
   "cell_type": "code",
   "execution_count": 6,
   "metadata": {},
   "outputs": [
    {
     "data": {
      "text/html": [
       "<div>\n",
       "<style scoped>\n",
       "    .dataframe tbody tr th:only-of-type {\n",
       "        vertical-align: middle;\n",
       "    }\n",
       "\n",
       "    .dataframe tbody tr th {\n",
       "        vertical-align: top;\n",
       "    }\n",
       "\n",
       "    .dataframe thead th {\n",
       "        text-align: right;\n",
       "    }\n",
       "</style>\n",
       "<table border=\"1\" class=\"dataframe\">\n",
       "  <thead>\n",
       "    <tr style=\"text-align: right;\">\n",
       "      <th></th>\n",
       "      <th>band_singer</th>\n",
       "      <th>ranking</th>\n",
       "      <th>title</th>\n",
       "      <th>url</th>\n",
       "    </tr>\n",
       "  </thead>\n",
       "  <tbody>\n",
       "    <tr>\n",
       "      <th>0</th>\n",
       "      <td>Simon &amp; Garfunkel</td>\n",
       "      <td>1</td>\n",
       "      <td>\"Bridge Over Troubled Water\"</td>\n",
       "      <td>/wiki/Simon_%26_Garfunkel</td>\n",
       "    </tr>\n",
       "    <tr>\n",
       "      <th>1</th>\n",
       "      <td>The Carpenters</td>\n",
       "      <td>2</td>\n",
       "      <td>\"(They Long to Be) Close to You\"</td>\n",
       "      <td>/wiki/The_Carpenters</td>\n",
       "    </tr>\n",
       "    <tr>\n",
       "      <th>2</th>\n",
       "      <td>The Guess Who</td>\n",
       "      <td>3</td>\n",
       "      <td>\"American Woman\"</td>\n",
       "      <td>/wiki/The_Guess_Who</td>\n",
       "    </tr>\n",
       "    <tr>\n",
       "      <th>3</th>\n",
       "      <td>B.J. Thomas</td>\n",
       "      <td>4</td>\n",
       "      <td>\"Raindrops Keep Fallin' on My Head\"</td>\n",
       "      <td>/wiki/B.J._Thomas</td>\n",
       "    </tr>\n",
       "    <tr>\n",
       "      <th>4</th>\n",
       "      <td>Edwin Starr</td>\n",
       "      <td>5</td>\n",
       "      <td>\"War\"</td>\n",
       "      <td>/wiki/Edwin_Starr</td>\n",
       "    </tr>\n",
       "  </tbody>\n",
       "</table>\n",
       "</div>"
      ],
      "text/plain": [
       "         band_singer  ranking                                title  \\\n",
       "0  Simon & Garfunkel        1         \"Bridge Over Troubled Water\"   \n",
       "1     The Carpenters        2     \"(They Long to Be) Close to You\"   \n",
       "2      The Guess Who        3                     \"American Woman\"   \n",
       "3        B.J. Thomas        4  \"Raindrops Keep Fallin' on My Head\"   \n",
       "4        Edwin Starr        5                                \"War\"   \n",
       "\n",
       "                         url  \n",
       "0  /wiki/Simon_%26_Garfunkel  \n",
       "1       /wiki/The_Carpenters  \n",
       "2        /wiki/The_Guess_Who  \n",
       "3          /wiki/B.J._Thomas  \n",
       "4          /wiki/Edwin_Starr  "
      ]
     },
     "execution_count": 6,
     "metadata": {},
     "output_type": "execute_result"
    }
   ],
   "source": [
    "table = soup.find(\"table\", attrs={\"class\": \"wikitable\"})\n",
    "rows = table.findAll(\"tr\")[1:]\n",
    "\n",
    "def cleaner(r):\n",
    "    ranking = int(r[0].text)\n",
    "    title = r[1].text\n",
    "    band_singer = r[2].text.strip()\n",
    "    url = r[2].find(\"a\").get(\"href\")\n",
    "    return [ranking,title,band_singer,url]\n",
    "\n",
    "fields = [\"ranking\",\"title\",\"band_singer\",\"url\"]\n",
    "\n",
    "songs = [dict(zip(fields,cleaner(row.findAll(\"td\")))) for row in rows]\n",
    "df1 = pd.DataFrame(songs)\n",
    "df1.head()"
   ]
  },
  {
   "cell_type": "code",
   "execution_count": 7,
   "metadata": {
    "scrolled": true
   },
   "outputs": [
    {
     "name": "stdout",
     "output_type": "stream",
     "text": [
      "50\n",
      "Completed Successfully\n"
     ]
    }
   ],
   "source": [
    "years = range(1969,2019)\n",
    "yearstext = {}\n",
    "print(len(years))\n",
    "for y in years:\n",
    "    #print(y)\n",
    "    yreq = requests.get(\"http://en.wikipedia.org/wiki/Billboard_Year-End_Hot_100_singles_of_%i\" %y)\n",
    "    yearstext[y] = yreq.text\n",
    "    time.sleep(1)\n",
    "print(\"Completed Successfully\")"
   ]
  },
  {
   "cell_type": "code",
   "execution_count": 8,
   "metadata": {},
   "outputs": [
    {
     "data": {
      "text/plain": [
       "'<!DOCTYPE html>\\n<html class=\"client-nojs\" lang=\"en\" dir=\"ltr\">\\n<head>\\n<meta charset=\"UTF-8\"/>\\n<title>Billboard Year-End Hot 100 singles of 2018 - Wikipedia</title>\\n<script>document.documentElement.cla'"
      ]
     },
     "execution_count": 8,
     "metadata": {},
     "output_type": "execute_result"
    }
   ],
   "source": [
    "yearstext[2018][:200]"
   ]
  },
  {
   "cell_type": "code",
   "execution_count": 9,
   "metadata": {},
   "outputs": [],
   "source": [
    "fields = [\"ranking\", \"song\", \"songurl\", \"titletext\", \"band_singer\", \"url\"]\n",
    "\n",
    "# Helper functions.\n",
    "def get_cols(row):\n",
    "    return row.find_all(\"th\") + row.find_all(\"td\")\n",
    "\n",
    "def break_a(col):\n",
    "    return list(map(list, zip(*[(a.get(\"title\").strip('\"'), a.get(\"href\")) for a in col.find_all(\"a\")]))) \\\n",
    "            or [[col.get_text().strip('\"')], [None]]\n",
    "    \n",
    "def parse_cols(cols):\n",
    "    return [cols[0].get_text().strip()] + break_a(cols[1]) + [cols[1].get_text()] + break_a(cols[2])\n",
    "\n",
    "def create_dict(cols):\n",
    "    return dict(zip(fields, cols))\n",
    "\n",
    "# Parser function.\n",
    "def parse_year(year, yearstext):\n",
    "    soup = BeautifulSoup(yearstext[year], 'html.parser')\n",
    "    rows = soup.find(\"table\", attrs={\"class\": \"wikitable\"}).find_all(\"tr\")[1:]\n",
    "    return [create_dict(parse_cols(get_cols(row))) for row in rows]"
   ]
  },
  {
   "cell_type": "code",
   "execution_count": 10,
   "metadata": {},
   "outputs": [
    {
     "data": {
      "text/plain": [
       "[{'ranking': '1',\n",
       "  'song': ['Something About the Way You Look Tonight',\n",
       "   'Candle in the Wind 1997'],\n",
       "  'songurl': ['/wiki/Something_About_the_Way_You_Look_Tonight',\n",
       "   '/wiki/Candle_in_the_Wind_1997'],\n",
       "  'titletext': '\"Something About the Way You Look Tonight\" / \"Candle in the Wind 1997\"',\n",
       "  'band_singer': ['Elton John'],\n",
       "  'url': ['/wiki/Elton_John']},\n",
       " {'ranking': '2',\n",
       "  'song': ['Foolish Games', 'You Were Meant for Me (Jewel song)'],\n",
       "  'songurl': ['/wiki/Foolish_Games',\n",
       "   '/wiki/You_Were_Meant_for_Me_(Jewel_song)'],\n",
       "  'titletext': '\"Foolish Games\" / \"You Were Meant for Me\"',\n",
       "  'band_singer': ['Jewel (singer)'],\n",
       "  'url': ['/wiki/Jewel_(singer)']},\n",
       " {'ranking': '3',\n",
       "  'song': [\"I'll Be Missing You\"],\n",
       "  'songurl': ['/wiki/I%27ll_Be_Missing_You'],\n",
       "  'titletext': '\"I\\'ll Be Missing You\"',\n",
       "  'band_singer': ['Sean Combs', 'Faith Evans', '112 (band)'],\n",
       "  'url': ['/wiki/Sean_Combs', '/wiki/Faith_Evans', '/wiki/112_(band)']}]"
      ]
     },
     "execution_count": 10,
     "metadata": {},
     "output_type": "execute_result"
    }
   ],
   "source": [
    "parse_year(1997, yearstext)[:3]"
   ]
  },
  {
   "cell_type": "code",
   "execution_count": 11,
   "metadata": {},
   "outputs": [],
   "source": [
    "yearinfo = {y:parse_year(y,yearstext) for y in years}"
   ]
  },
  {
   "cell_type": "code",
   "execution_count": 12,
   "metadata": {},
   "outputs": [],
   "source": [
    "import json"
   ]
  },
  {
   "cell_type": "code",
   "execution_count": 13,
   "metadata": {},
   "outputs": [],
   "source": [
    "fd = open(\"yearinfo.json\",\"w\")\n",
    "json.dump(yearinfo,fd)\n",
    "fd.close()\n",
    "del yearinfo"
   ]
  },
  {
   "cell_type": "code",
   "execution_count": 14,
   "metadata": {},
   "outputs": [],
   "source": [
    "with open(\"yearinfo.json\",\"r\") as fd:\n",
    "    yearinfo = json.load(fd)"
   ]
  },
  {
   "cell_type": "code",
   "execution_count": 15,
   "metadata": {
    "scrolled": false
   },
   "outputs": [],
   "source": [
    "df = pd.DataFrame(yearinfo['1969'])\n",
    "for year in yearinfo.keys():\n",
    "    if year != '1969':\n",
    "        df1 = pd.DataFrame(yearinfo[year])\n",
    "        df = df.append(df1,ignore_index=True,sort=True)"
   ]
  },
  {
   "cell_type": "code",
   "execution_count": 16,
   "metadata": {},
   "outputs": [],
   "source": [
    "df = df.sort_values(by=['ranking'])"
   ]
  },
  {
   "cell_type": "code",
   "execution_count": 17,
   "metadata": {},
   "outputs": [],
   "source": [
    "df = df.reset_index()"
   ]
  },
  {
   "cell_type": "code",
   "execution_count": 18,
   "metadata": {},
   "outputs": [],
   "source": [
    "df = df.drop(5000) ## removing the Tie"
   ]
  },
  {
   "cell_type": "code",
   "execution_count": 19,
   "metadata": {},
   "outputs": [],
   "source": [
    "df.ranking = df.ranking.astype(int)"
   ]
  },
  {
   "cell_type": "code",
   "execution_count": 20,
   "metadata": {},
   "outputs": [
    {
     "data": {
      "text/html": [
       "<div>\n",
       "<style scoped>\n",
       "    .dataframe tbody tr th:only-of-type {\n",
       "        vertical-align: middle;\n",
       "    }\n",
       "\n",
       "    .dataframe tbody tr th {\n",
       "        vertical-align: top;\n",
       "    }\n",
       "\n",
       "    .dataframe thead th {\n",
       "        text-align: right;\n",
       "    }\n",
       "</style>\n",
       "<table border=\"1\" class=\"dataframe\">\n",
       "  <thead>\n",
       "    <tr style=\"text-align: right;\">\n",
       "      <th></th>\n",
       "      <th>index</th>\n",
       "      <th>band_singer</th>\n",
       "      <th>ranking</th>\n",
       "      <th>song</th>\n",
       "      <th>songurl</th>\n",
       "      <th>titletext</th>\n",
       "      <th>url</th>\n",
       "    </tr>\n",
       "  </thead>\n",
       "  <tbody>\n",
       "    <tr>\n",
       "      <th>0</th>\n",
       "      <td>0</td>\n",
       "      <td>[The Archies]</td>\n",
       "      <td>1</td>\n",
       "      <td>[Sugar, Sugar]</td>\n",
       "      <td>[/wiki/Sugar,_Sugar]</td>\n",
       "      <td>\"Sugar, Sugar\"</td>\n",
       "      <td>[/wiki/The_Archies]</td>\n",
       "    </tr>\n",
       "    <tr>\n",
       "      <th>1</th>\n",
       "      <td>2601</td>\n",
       "      <td>[Coolio, L.V. (singer)]</td>\n",
       "      <td>1</td>\n",
       "      <td>[Gangsta's Paradise]</td>\n",
       "      <td>[/wiki/Gangsta%27s_Paradise]</td>\n",
       "      <td>\"Gangsta's Paradise\"</td>\n",
       "      <td>[/wiki/Coolio, /wiki/L.V._(singer)]</td>\n",
       "    </tr>\n",
       "    <tr>\n",
       "      <th>2</th>\n",
       "      <td>2701</td>\n",
       "      <td>[Los del Río]</td>\n",
       "      <td>1</td>\n",
       "      <td>[Macarena (song)]</td>\n",
       "      <td>[/wiki/Macarena_(song)]</td>\n",
       "      <td>\"Macarena (Bayside Boys Mix)\"</td>\n",
       "      <td>[/wiki/Los_del_R%C3%ADo]</td>\n",
       "    </tr>\n",
       "    <tr>\n",
       "      <th>3</th>\n",
       "      <td>2801</td>\n",
       "      <td>[Elton John]</td>\n",
       "      <td>1</td>\n",
       "      <td>[Something About the Way You Look Tonight, Can...</td>\n",
       "      <td>[/wiki/Something_About_the_Way_You_Look_Tonigh...</td>\n",
       "      <td>\"Something About the Way You Look Tonight\" / \"...</td>\n",
       "      <td>[/wiki/Elton_John]</td>\n",
       "    </tr>\n",
       "    <tr>\n",
       "      <th>4</th>\n",
       "      <td>901</td>\n",
       "      <td>[Andy Gibb]</td>\n",
       "      <td>1</td>\n",
       "      <td>[Shadow Dancing (song)]</td>\n",
       "      <td>[/wiki/Shadow_Dancing_(song)]</td>\n",
       "      <td>\"Shadow Dancing\"</td>\n",
       "      <td>[/wiki/Andy_Gibb]</td>\n",
       "    </tr>\n",
       "  </tbody>\n",
       "</table>\n",
       "</div>"
      ],
      "text/plain": [
       "   index              band_singer  ranking  \\\n",
       "0      0            [The Archies]        1   \n",
       "1   2601  [Coolio, L.V. (singer)]        1   \n",
       "2   2701            [Los del Río]        1   \n",
       "3   2801             [Elton John]        1   \n",
       "4    901              [Andy Gibb]        1   \n",
       "\n",
       "                                                song  \\\n",
       "0                                     [Sugar, Sugar]   \n",
       "1                               [Gangsta's Paradise]   \n",
       "2                                  [Macarena (song)]   \n",
       "3  [Something About the Way You Look Tonight, Can...   \n",
       "4                            [Shadow Dancing (song)]   \n",
       "\n",
       "                                             songurl  \\\n",
       "0                               [/wiki/Sugar,_Sugar]   \n",
       "1                       [/wiki/Gangsta%27s_Paradise]   \n",
       "2                            [/wiki/Macarena_(song)]   \n",
       "3  [/wiki/Something_About_the_Way_You_Look_Tonigh...   \n",
       "4                      [/wiki/Shadow_Dancing_(song)]   \n",
       "\n",
       "                                           titletext  \\\n",
       "0                                     \"Sugar, Sugar\"   \n",
       "1                               \"Gangsta's Paradise\"   \n",
       "2                      \"Macarena (Bayside Boys Mix)\"   \n",
       "3  \"Something About the Way You Look Tonight\" / \"...   \n",
       "4                                   \"Shadow Dancing\"   \n",
       "\n",
       "                                   url  \n",
       "0                  [/wiki/The_Archies]  \n",
       "1  [/wiki/Coolio, /wiki/L.V._(singer)]  \n",
       "2             [/wiki/Los_del_R%C3%ADo]  \n",
       "3                   [/wiki/Elton_John]  \n",
       "4                    [/wiki/Andy_Gibb]  "
      ]
     },
     "execution_count": 20,
     "metadata": {},
     "output_type": "execute_result"
    }
   ],
   "source": [
    "df.head()"
   ]
  },
  {
   "cell_type": "code",
   "execution_count": 21,
   "metadata": {},
   "outputs": [
    {
     "data": {
      "text/plain": [
       "index           int64\n",
       "band_singer    object\n",
       "ranking         int32\n",
       "song           object\n",
       "songurl        object\n",
       "titletext      object\n",
       "url            object\n",
       "dtype: object"
      ]
     },
     "execution_count": 21,
     "metadata": {},
     "output_type": "execute_result"
    }
   ],
   "source": [
    "df.dtypes"
   ]
  }
 ],
 "metadata": {
  "kernelspec": {
   "display_name": "Python 3",
   "language": "python",
   "name": "python3"
  },
  "language_info": {
   "codemirror_mode": {
    "name": "ipython",
    "version": 3
   },
   "file_extension": ".py",
   "mimetype": "text/x-python",
   "name": "python",
   "nbconvert_exporter": "python",
   "pygments_lexer": "ipython3",
   "version": "3.7.0"
  }
 },
 "nbformat": 4,
 "nbformat_minor": 2
}
