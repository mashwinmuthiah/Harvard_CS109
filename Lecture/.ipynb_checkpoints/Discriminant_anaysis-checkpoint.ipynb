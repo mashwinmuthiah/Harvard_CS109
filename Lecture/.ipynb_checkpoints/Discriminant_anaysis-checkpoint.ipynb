{
 "cells": [
  {
   "cell_type": "code",
   "execution_count": 1,
   "metadata": {},
   "outputs": [
    {
     "name": "stderr",
     "output_type": "stream",
     "text": [
      "C:\\Users\\ashwi\\Anaconda3\\lib\\importlib\\_bootstrap.py:219: RuntimeWarning: numpy.ufunc size changed, may indicate binary incompatibility. Expected 216, got 192\n",
      "  return f(*args, **kwds)\n",
      "C:\\Users\\ashwi\\Anaconda3\\lib\\importlib\\_bootstrap.py:219: RuntimeWarning: numpy.ufunc size changed, may indicate binary incompatibility. Expected 192 from C header, got 216 from PyObject\n",
      "  return f(*args, **kwds)\n",
      "C:\\Users\\ashwi\\Anaconda3\\lib\\importlib\\_bootstrap.py:219: RuntimeWarning: numpy.ufunc size changed, may indicate binary incompatibility. Expected 192 from C header, got 216 from PyObject\n",
      "  return f(*args, **kwds)\n"
     ]
    }
   ],
   "source": [
    "import sys\n",
    "import numpy as np\n",
    "import pandas as pd\n",
    "import statsmodels as sm\n",
    "import matplotlib.pyplot as plt\n",
    "import matplotlib as mpl\n",
    "import sklearn as sk\n",
    "import sklearn.neighbors as knn\n",
    "import sklearn.discriminant_analysis as da"
   ]
  },
  {
   "cell_type": "code",
   "execution_count": 3,
   "metadata": {},
   "outputs": [
    {
     "data": {
      "text/html": [
       "<div>\n",
       "<style scoped>\n",
       "    .dataframe tbody tr th:only-of-type {\n",
       "        vertical-align: middle;\n",
       "    }\n",
       "\n",
       "    .dataframe tbody tr th {\n",
       "        vertical-align: top;\n",
       "    }\n",
       "\n",
       "    .dataframe thead th {\n",
       "        text-align: right;\n",
       "    }\n",
       "</style>\n",
       "<table border=\"1\" class=\"dataframe\">\n",
       "  <thead>\n",
       "    <tr style=\"text-align: right;\">\n",
       "      <th></th>\n",
       "      <th>politicalparty</th>\n",
       "      <th>income</th>\n",
       "      <th>educ</th>\n",
       "      <th>abortion</th>\n",
       "      <th>republican</th>\n",
       "    </tr>\n",
       "  </thead>\n",
       "  <tbody>\n",
       "    <tr>\n",
       "      <th>0</th>\n",
       "      <td>Republican</td>\n",
       "      <td>2152</td>\n",
       "      <td>9</td>\n",
       "      <td>0</td>\n",
       "      <td>1</td>\n",
       "    </tr>\n",
       "    <tr>\n",
       "      <th>1</th>\n",
       "      <td>Republican</td>\n",
       "      <td>906</td>\n",
       "      <td>6</td>\n",
       "      <td>0</td>\n",
       "      <td>1</td>\n",
       "    </tr>\n",
       "    <tr>\n",
       "      <th>2</th>\n",
       "      <td>Democrat</td>\n",
       "      <td>1373</td>\n",
       "      <td>6</td>\n",
       "      <td>0</td>\n",
       "      <td>0</td>\n",
       "    </tr>\n",
       "    <tr>\n",
       "      <th>3</th>\n",
       "      <td>Democrat</td>\n",
       "      <td>1941</td>\n",
       "      <td>4</td>\n",
       "      <td>0</td>\n",
       "      <td>0</td>\n",
       "    </tr>\n",
       "    <tr>\n",
       "      <th>4</th>\n",
       "      <td>Democrat</td>\n",
       "      <td>355</td>\n",
       "      <td>7</td>\n",
       "      <td>0</td>\n",
       "      <td>0</td>\n",
       "    </tr>\n",
       "  </tbody>\n",
       "</table>\n",
       "</div>"
      ],
      "text/plain": [
       "  politicalparty  income  educ  abortion  republican\n",
       "0     Republican    2152     9         0           1\n",
       "1     Republican     906     6         0           1\n",
       "2       Democrat    1373     6         0           0\n",
       "3       Democrat    1941     4         0           0\n",
       "4       Democrat     355     7         0           0"
      ]
     },
     "execution_count": 3,
     "metadata": {},
     "output_type": "execute_result"
    }
   ],
   "source": [
    "gssdata = pd.read_csv(\"data/gsspartyid.csv\")\n",
    "gssdata.head()"
   ]
  },
  {
   "cell_type": "code",
   "execution_count": 4,
   "metadata": {},
   "outputs": [
    {
     "data": {
      "text/plain": [
       "LinearDiscriminantAnalysis(n_components=None, priors=None, shrinkage=None,\n",
       "                           solver='svd', store_covariance=False, tol=0.0001)"
      ]
     },
     "execution_count": 4,
     "metadata": {},
     "output_type": "execute_result"
    }
   ],
   "source": [
    "LDA = da.LinearDiscriminantAnalysis()\n",
    "X = gssdata[[\"income\",\"educ\",\"abortion\"]]\n",
    "LDA.fit(X,gssdata.republican)"
   ]
  },
  {
   "cell_type": "code",
   "execution_count": 5,
   "metadata": {},
   "outputs": [
    {
     "data": {
      "text/plain": [
       "array([1, 1, 1, ..., 0, 0, 0], dtype=int64)"
      ]
     },
     "execution_count": 5,
     "metadata": {},
     "output_type": "execute_result"
    }
   ],
   "source": [
    "LDA.predict(X)"
   ]
  },
  {
   "cell_type": "code",
   "execution_count": 9,
   "metadata": {},
   "outputs": [
    {
     "name": "stdout",
     "output_type": "stream",
     "text": [
      "Specificity is 0.38838709677419353\n",
      "Sensitivity is 0.37406015037593987\n",
      "False positive rate is 0.5252365930599369\n",
      "False negative rate is 0.7043090638930163\n"
     ]
    }
   ],
   "source": [
    "print(\"Specificity is\",np.mean(LDA.predict(X[gssdata['republican']==0])))\n",
    "\n",
    "print(\"Sensitivity is\",1-np.mean(LDA.predict(X[gssdata['republican']==1])))\n",
    "\n",
    "print(\"False positive rate is\",np.mean(gssdata['republican'][LDA.predict(X)==1]))\n",
    "\n",
    "print(\"False negative rate is\",1-np.mean(gssdata['republican'][LDA.predict(X)==0]))\n"
   ]
  },
  {
   "cell_type": "code",
   "execution_count": 7,
   "metadata": {},
   "outputs": [],
   "source": [
    "from sklearn.metrics import confusion_matrix"
   ]
  },
  {
   "cell_type": "code",
   "execution_count": 8,
   "metadata": {},
   "outputs": [
    {
     "data": {
      "text/plain": [
       "array([[474, 301],\n",
       "       [199, 333]], dtype=int64)"
      ]
     },
     "execution_count": 8,
     "metadata": {},
     "output_type": "execute_result"
    }
   ],
   "source": [
    "confusion_matrix(gssdata.republican,LDA.predict(X))"
   ]
  },
  {
   "cell_type": "code",
   "execution_count": 12,
   "metadata": {},
   "outputs": [
    {
     "data": {
      "text/html": [
       "<div>\n",
       "<style scoped>\n",
       "    .dataframe tbody tr th:only-of-type {\n",
       "        vertical-align: middle;\n",
       "    }\n",
       "\n",
       "    .dataframe tbody tr th {\n",
       "        vertical-align: top;\n",
       "    }\n",
       "\n",
       "    .dataframe thead th {\n",
       "        text-align: right;\n",
       "    }\n",
       "</style>\n",
       "<table border=\"1\" class=\"dataframe\">\n",
       "  <thead>\n",
       "    <tr style=\"text-align: right;\">\n",
       "      <th></th>\n",
       "      <th>x1</th>\n",
       "      <th>x2</th>\n",
       "      <th>x1sq</th>\n",
       "      <th>x2sq</th>\n",
       "    </tr>\n",
       "  </thead>\n",
       "  <tbody>\n",
       "    <tr>\n",
       "      <th>0</th>\n",
       "      <td>2.585529</td>\n",
       "      <td>2.501129</td>\n",
       "      <td>6.684959</td>\n",
       "      <td>6.255645</td>\n",
       "    </tr>\n",
       "    <tr>\n",
       "      <th>1</th>\n",
       "      <td>1.890697</td>\n",
       "      <td>1.600182</td>\n",
       "      <td>3.574734</td>\n",
       "      <td>2.560583</td>\n",
       "    </tr>\n",
       "    <tr>\n",
       "      <th>2</th>\n",
       "      <td>2.605887</td>\n",
       "      <td>0.084014</td>\n",
       "      <td>6.790649</td>\n",
       "      <td>0.007058</td>\n",
       "    </tr>\n",
       "    <tr>\n",
       "      <th>3</th>\n",
       "      <td>2.630099</td>\n",
       "      <td>1.547508</td>\n",
       "      <td>6.917418</td>\n",
       "      <td>2.394780</td>\n",
       "    </tr>\n",
       "    <tr>\n",
       "      <th>4</th>\n",
       "      <td>1.715840</td>\n",
       "      <td>1.208271</td>\n",
       "      <td>2.944108</td>\n",
       "      <td>1.459918</td>\n",
       "    </tr>\n",
       "  </tbody>\n",
       "</table>\n",
       "</div>"
      ],
      "text/plain": [
       "         x1        x2      x1sq      x2sq\n",
       "0  2.585529  2.501129  6.684959  6.255645\n",
       "1  1.890697  1.600182  3.574734  2.560583\n",
       "2  2.605887  0.084014  6.790649  0.007058\n",
       "3  2.630099  1.547508  6.917418  2.394780\n",
       "4  1.715840  1.208271  2.944108  1.459918"
      ]
     },
     "execution_count": 12,
     "metadata": {},
     "output_type": "execute_result"
    }
   ],
   "source": [
    "data1 = pd.read_csv(\"data/dataset1.csv\")\n",
    "X = data1[['x1','x2']]\n",
    "data1['x1sq'] = data1['x1']**2\n",
    "data1['x2sq'] = data1['x2']**2\n",
    "X2 = data1[['x1','x2','x1sq','x2sq']]\n",
    "y = data1['y']\n",
    "n = data1.shape[0]\n",
    "X2.head()"
   ]
  },
  {
   "cell_type": "code",
   "execution_count": 13,
   "metadata": {},
   "outputs": [
    {
     "data": {
      "text/plain": [
       "QuadraticDiscriminantAnalysis(priors=None, reg_param=0.0,\n",
       "                              store_covariance=False, tol=0.0001)"
      ]
     },
     "execution_count": 13,
     "metadata": {},
     "output_type": "execute_result"
    }
   ],
   "source": [
    "lda = da.LinearDiscriminantAnalysis()\n",
    "qda = da.QuadraticDiscriminantAnalysis()\n",
    "lda.fit(X,y)\n",
    "qda.fit(X,y)"
   ]
  },
  {
   "cell_type": "code",
   "execution_count": 14,
   "metadata": {},
   "outputs": [
    {
     "name": "stderr",
     "output_type": "stream",
     "text": [
      "C:\\Users\\ashwi\\Anaconda3\\lib\\site-packages\\sklearn\\linear_model\\logistic.py:432: FutureWarning: Default solver will be changed to 'lbfgs' in 0.22. Specify a solver to silence this warning.\n",
      "  FutureWarning)\n",
      "C:\\Users\\ashwi\\Anaconda3\\lib\\site-packages\\sklearn\\linear_model\\logistic.py:432: FutureWarning: Default solver will be changed to 'lbfgs' in 0.22. Specify a solver to silence this warning.\n",
      "  FutureWarning)\n"
     ]
    },
    {
     "data": {
      "text/plain": [
       "LogisticRegression(C=1000000, class_weight=None, dual=False, fit_intercept=True,\n",
       "                   intercept_scaling=1, l1_ratio=None, max_iter=100,\n",
       "                   multi_class='warn', n_jobs=None, penalty='l2',\n",
       "                   random_state=None, solver='warn', tol=0.0001, verbose=0,\n",
       "                   warm_start=False)"
      ]
     },
     "execution_count": 14,
     "metadata": {},
     "output_type": "execute_result"
    }
   ],
   "source": [
    "logit2 = sk.linear_model.LogisticRegression(C = 1000000)\n",
    "logit1 = sk.linear_model.LogisticRegression(C = 1000000)\n",
    "logit1.fit(X,y)\n",
    "logit2.fit(X2,y)"
   ]
  },
  {
   "cell_type": "code",
   "execution_count": 16,
   "metadata": {},
   "outputs": [
    {
     "name": "stdout",
     "output_type": "stream",
     "text": [
      "Overall misclassification rate of Logit1 is 0.04410000000000003\n",
      "Overall misclassification rate of Logit2 is 0.04410000000000003\n",
      "Overall misclassification rate of LDA is 0.04425000000000001\n",
      "Overall misclassification rate of QDA is 0.04410000000000003\n"
     ]
    }
   ],
   "source": [
    "print(\"Overall misclassification rate of Logit1 is\",(1-logit1.score(X,y)))\n",
    "print(\"Overall misclassification rate of Logit2 is\",(1-logit2.score(X2,y)))\n",
    "print(\"Overall misclassification rate of LDA is\",(1-lda.score(X,y)))\n",
    "print(\"Overall misclassification rate of QDA is\",(1-qda.score(X,y)))"
   ]
  },
  {
   "cell_type": "code",
   "execution_count": 18,
   "metadata": {},
   "outputs": [
    {
     "name": "stdout",
     "output_type": "stream",
     "text": [
      "Overall misclassification rate of kNN3 is 0.03310000000000002\n",
      "Overall misclassification rate of kNN25 is 0.04235\n"
     ]
    }
   ],
   "source": [
    "knn3=knn.KNeighborsClassifier(3)\n",
    "knn25=knn.KNeighborsClassifier(25)\n",
    "knn3.fit(X,y)\n",
    "knn25.fit(X,y)\n",
    "\n",
    "#note, the KNNs are not correct :(\n",
    "print(\"Overall misclassification rate of kNN3 is\",(1-knn3.score(X,y)))\n",
    "print(\"Overall misclassification rate of kNN25 is\",(1-knn25.score(X,y)))\n"
   ]
  },
  {
   "cell_type": "code",
   "execution_count": 20,
   "metadata": {},
   "outputs": [
    {
     "data": {
      "text/plain": [
       "0.9669"
      ]
     },
     "execution_count": 20,
     "metadata": {},
     "output_type": "execute_result"
    }
   ],
   "source": [
    "knn3.score(X,y)"
   ]
  },
  {
   "cell_type": "code",
   "execution_count": 21,
   "metadata": {},
   "outputs": [
    {
     "data": {
      "text/plain": [
       "array([[9671,  329],\n",
       "       [ 333, 9667]], dtype=int64)"
      ]
     },
     "execution_count": 21,
     "metadata": {},
     "output_type": "execute_result"
    }
   ],
   "source": [
    "confusion_matrix(y,knn3.predict(X))"
   ]
  },
  {
   "cell_type": "code",
   "execution_count": null,
   "metadata": {},
   "outputs": [],
   "source": []
  }
 ],
 "metadata": {
  "kernelspec": {
   "display_name": "Python 3",
   "language": "python",
   "name": "python3"
  },
  "language_info": {
   "codemirror_mode": {
    "name": "ipython",
    "version": 3
   },
   "file_extension": ".py",
   "mimetype": "text/x-python",
   "name": "python",
   "nbconvert_exporter": "python",
   "pygments_lexer": "ipython3",
   "version": "3.7.0"
  }
 },
 "nbformat": 4,
 "nbformat_minor": 2
}
